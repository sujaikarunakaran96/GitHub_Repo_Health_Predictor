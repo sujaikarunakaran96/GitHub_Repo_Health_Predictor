{
  "nbformat": 4,
  "nbformat_minor": 0,
  "metadata": {
    "colab": {
      "name": "Data_exploration_Random_Forest.ipynb",
      "provenance": [],
      "collapsed_sections": []
    },
    "kernelspec": {
      "name": "python3",
      "display_name": "Python 3"
    }
  },
  "cells": [
    {
      "cell_type": "markdown",
      "metadata": {
        "id": "4Z7mQuv5n86m"
      },
      "source": [
        "This code performs data exploration and runs a random forest to get the feature weights.\n",
        "Using the weights a normalized Health Score is created."
      ]
    },
    {
      "cell_type": "code",
      "metadata": {
        "id": "jIkj0MrOkv5I",
        "colab": {
          "base_uri": "https://localhost:8080/"
        },
        "outputId": "a31dd9ec-55e3-49e5-b933-3e6cd6d41f39"
      },
      "source": [
        "#### Initalizing libraries.\n",
        "\n",
        "import pandas as pd\n",
        "import numpy as np\n",
        "import pandas as pd\n",
        "from matplotlib import pyplot as plt\n",
        "import seaborn as sns\n",
        "\n",
        "\n",
        "### Authorize to mount Google drive\n",
        "from google.colab import drive\n",
        "drive.mount('/content/drive')\n",
        "import os\n",
        "os.chdir('/content/drive/My Drive/Capstone Project./Datasets')\n"
      ],
      "execution_count": 2,
      "outputs": [
        {
          "output_type": "stream",
          "text": [
            "Mounted at /content/drive\n"
          ],
          "name": "stdout"
        }
      ]
    },
    {
      "cell_type": "code",
      "metadata": {
        "id": "SNgrAK45k3yc",
        "colab": {
          "base_uri": "https://localhost:8080/"
        },
        "outputId": "0af5ddc4-8306-4bba-d862-2f5363d5cc38"
      },
      "source": [
        "### Reading the dataset\n",
        "df = pd.read_csv('Pivot_Dataset.csv')\n",
        "df.info()\n",
        "\n",
        "### Checking for null values\n",
        "df.isnull().sum()\n",
        "\n",
        "### Dropping Null values\n",
        "df1 = df\n",
        "df1 = df1.dropna()\n",
        "df1.info()"
      ],
      "execution_count": 31,
      "outputs": [
        {
          "output_type": "stream",
          "text": [
            "<class 'pandas.core.frame.DataFrame'>\n",
            "RangeIndex: 47672 entries, 0 to 47671\n",
            "Data columns (total 15 columns):\n",
            " #   Column               Non-Null Count  Dtype  \n",
            "---  ------               --------------  -----  \n",
            " 0   Unnamed: 0           47672 non-null  int64  \n",
            " 1   datetime             47672 non-null  object \n",
            " 2   year                 47672 non-null  int64  \n",
            " 3   month                47672 non-null  int64  \n",
            " 4   day                  47672 non-null  int64  \n",
            " 5   number_of_pushes     47672 non-null  float64\n",
            " 6   number_of_forks      47672 non-null  float64\n",
            " 7   number_of_pulls      47672 non-null  float64\n",
            " 8   number_of_bookmarks  47672 non-null  float64\n",
            " 9   number_of_issues     47672 non-null  float64\n",
            " 10  issue_comment_count  47672 non-null  float64\n",
            " 11  CreateEvent_count    47672 non-null  float64\n",
            " 12  Total_count          47672 non-null  float64\n",
            " 13  Status               46213 non-null  float64\n",
            " 14  repoID               47672 non-null  int64  \n",
            "dtypes: float64(9), int64(5), object(1)\n",
            "memory usage: 5.5+ MB\n",
            "<class 'pandas.core.frame.DataFrame'>\n",
            "Int64Index: 46213 entries, 5 to 47670\n",
            "Data columns (total 15 columns):\n",
            " #   Column               Non-Null Count  Dtype  \n",
            "---  ------               --------------  -----  \n",
            " 0   Unnamed: 0           46213 non-null  int64  \n",
            " 1   datetime             46213 non-null  object \n",
            " 2   year                 46213 non-null  int64  \n",
            " 3   month                46213 non-null  int64  \n",
            " 4   day                  46213 non-null  int64  \n",
            " 5   number_of_pushes     46213 non-null  float64\n",
            " 6   number_of_forks      46213 non-null  float64\n",
            " 7   number_of_pulls      46213 non-null  float64\n",
            " 8   number_of_bookmarks  46213 non-null  float64\n",
            " 9   number_of_issues     46213 non-null  float64\n",
            " 10  issue_comment_count  46213 non-null  float64\n",
            " 11  CreateEvent_count    46213 non-null  float64\n",
            " 12  Total_count          46213 non-null  float64\n",
            " 13  Status               46213 non-null  float64\n",
            " 14  repoID               46213 non-null  int64  \n",
            "dtypes: float64(9), int64(5), object(1)\n",
            "memory usage: 5.6+ MB\n"
          ],
          "name": "stdout"
        }
      ]
    },
    {
      "cell_type": "code",
      "metadata": {
        "id": "CLd28x4cnY50",
        "colab": {
          "base_uri": "https://localhost:8080/",
          "height": 353
        },
        "outputId": "5e411217-b850-40ee-9f75-81d4a0263adf"
      },
      "source": [
        "### Distribution of Status Variable\n",
        "\n",
        "status_count  = df1['Status'].value_counts()\n",
        "fig = plt.figure(facecolor='white', figsize=(5,4) )\n",
        "sns.barplot(status_count.index, status_count.values, alpha=0.8)\n",
        "plt.title('Repo Status Count')\n",
        "plt.ylabel('Number of Occurrences', fontsize=12)\n",
        "plt.xlabel('Repo Status', fontsize=12)\n",
        "plt.legend(['1:Active','0:Dormant'])\n",
        "plt.show()"
      ],
      "execution_count": 18,
      "outputs": [
        {
          "output_type": "stream",
          "text": [
            "/usr/local/lib/python3.7/dist-packages/seaborn/_decorators.py:43: FutureWarning: Pass the following variables as keyword args: x, y. From version 0.12, the only valid positional argument will be `data`, and passing other arguments without an explicit keyword will result in an error or misinterpretation.\n",
            "  FutureWarning\n"
          ],
          "name": "stderr"
        },
        {
          "output_type": "display_data",
          "data": {
            "image/png": "[encoded data removed]",
            "text/plain": [
              "<Figure size 360x288 with 1 Axes>"
            ]
          },
          "metadata": {
            "tags": []
          }
        }
      ]
    },
    {
      "cell_type": "code",
      "metadata": {
        "colab": {
          "base_uri": "https://localhost:8080/",
          "height": 803
        },
        "id": "GkzZLU-eoSP0",
        "outputId": "547cb49d-a911-4611-c7f2-37c3de53c883"
      },
      "source": [
        "### Dropping unwanted columns\n",
        "df2 = df1\n",
        "df2.drop(['Total_count', 'year', 'month', 'day', 'datetime', 'repoID'], axis=1, inplace=True)\n",
        "df2 = df2.drop(df2.columns[0], axis=1)\n",
        "\n",
        "###Checking Correlation Matrix\n",
        "matrix = np.triu(df2.corr())\n",
        "plt.figure(figsize=(10,10))\n",
        "sns.heatmap(df2.corr(), annot = True, vmin=-1, vmax=1, center= 0, cmap= 'coolwarm', linewidths=1, linecolor='black', mask=matrix)\n"
      ],
      "execution_count": 32,
      "outputs": [
        {
          "output_type": "stream",
          "text": [
            "/usr/local/lib/python3.7/dist-packages/pandas/core/frame.py:4174: SettingWithCopyWarning: \n",
            "A value is trying to be set on a copy of a slice from a DataFrame\n",
            "\n",
            "See the caveats in the documentation: https://pandas.pydata.org/pandas-docs/stable/user_guide/indexing.html#returning-a-view-versus-a-copy\n",
            "  errors=errors,\n"
          ],
          "name": "stderr"
        },
        {
          "output_type": "execute_result",
          "data": {
            "text/plain": [
              "<matplotlib.axes._subplots.AxesSubplot at 0x7fd6d5d7a490>"
            ]
          },
          "metadata": {
            "tags": []
          },
          "execution_count": 32
        },
        {
          "output_type": "display_data",
          "data": {
            "image/png": "[encoded data removed]",
            "text/plain": [
              "<Figure size 720x720 with 2 Axes>"
            ]
          },
          "metadata": {
            "tags": [],
            "needs_background": "light"
          }
        }
      ]
    },
    {
      "cell_type": "code",
      "metadata": {
        "id": "Q3qJ-Q521M3d",
        "colab": {
          "base_uri": "https://localhost:8080/",
          "height": 713
        },
        "outputId": "b4ab68ff-0927-4a8d-82ce-6dcb0caa1441"
      },
      "source": [
        "###Checking distribution of Event counts\n",
        "\n",
        "y = df2['Status']\n",
        "X = df2.drop('Status', axis =1)\n",
        "y = pd.DataFrame(y)\n",
        "#X.info()\n",
        "X = X.drop(X.columns[0], axis=1)\n",
        "\n",
        "col_sum=X.sum(axis=0)\n",
        "col_sum.sort_values(ascending=False, inplace=True)\n",
        "col_sum\n",
        "fig = plt.figure()\n",
        "fig.patch.set_facecolor('white')\n",
        "ax = fig.add_axes([0,0,2,2])\n",
        "ax.bar(col_sum.index,col_sum)\n",
        "plt.xticks(rotation=45)\n",
        "plt.show()\n"
      ],
      "execution_count": 36,
      "outputs": [
        {
          "output_type": "display_data",
          "data": {
            "image/png": "[encoded data removed]",
            "text/plain": [
              "<Figure size 432x288 with 1 Axes>"
            ]
          },
          "metadata": {
            "tags": []
          }
        }
      ]
    },
    {
      "cell_type": "code",
      "metadata": {
        "colab": {
          "base_uri": "https://localhost:8080/"
        },
        "id": "2M69mMcCsEfX",
        "outputId": "880ce646-b866-4320-b0ca-10eec923f3a0"
      },
      "source": [
        "!pip install chart_studio\n",
        "\n",
        "import chart_studio.plotly as py\n",
        "import plotly.graph_objs as go\n",
        "import plotly.graph_objs as go\n",
        "from plotly.tools import FigureFactory as FF\n",
        "\n",
        "import numpy as np\n",
        "import pandas as pd\n",
        "import scipy\n",
        "\n",
        "!pip install researchpy\n",
        "\n",
        "import researchpy as rp\n",
        "import scipy.stats as stats\n",
        "\n",
        "!pip install bioinfokit\n",
        "\n",
        "from scipy import stats as st\n",
        "from bioinfokit.analys import get_data, stat"
      ],
      "execution_count": 38,
      "outputs": [
        {
          "output_type": "stream",
          "text": [
            "Requirement already satisfied: chart_studio in /usr/local/lib/python3.7/dist-packages (1.1.0)\n",
            "Requirement already satisfied: six in /usr/local/lib/python3.7/dist-packages (from chart_studio) (1.15.0)\n",
            "Requirement already satisfied: plotly in /usr/local/lib/python3.7/dist-packages (from chart_studio) (4.4.1)\n",
            "Requirement already satisfied: requests in /usr/local/lib/python3.7/dist-packages (from chart_studio) (2.23.0)\n",
            "Requirement already satisfied: retrying>=1.3.3 in /usr/local/lib/python3.7/dist-packages (from chart_studio) (1.3.3)\n",
            "Requirement already satisfied: urllib3!=1.25.0,!=1.25.1,<1.26,>=1.21.1 in /usr/local/lib/python3.7/dist-packages (from requests->chart_studio) (1.24.3)\n",
            "Requirement already satisfied: idna<3,>=2.5 in /usr/local/lib/python3.7/dist-packages (from requests->chart_studio) (2.10)\n",
            "Requirement already satisfied: certifi>=2017.4.17 in /usr/local/lib/python3.7/dist-packages (from requests->chart_studio) (2020.12.5)\n",
            "Requirement already satisfied: chardet<4,>=3.0.2 in /usr/local/lib/python3.7/dist-packages (from requests->chart_studio) (3.0.4)\n",
            "Collecting researchpy\n",
            "  Downloading https://files.pythonhosted.org/packages/4b/a3/b16ea25a5416f7c35824b2fc3ee1cdc9f9d8ab6d9fc4119679504d43b8a8/researchpy-0.2.3-py3-none-any.whl\n",
            "Requirement already satisfied: scipy in /usr/local/lib/python3.7/dist-packages (from researchpy) (1.4.1)\n",
            "Requirement already satisfied: statsmodels in /usr/local/lib/python3.7/dist-packages (from researchpy) (0.10.2)\n",
            "Requirement already satisfied: pandas in /usr/local/lib/python3.7/dist-packages (from researchpy) (1.1.5)\n",
            "Requirement already satisfied: numpy in /usr/local/lib/python3.7/dist-packages (from researchpy) (1.19.5)\n",
            "Requirement already satisfied: patsy>=0.4.0 in /usr/local/lib/python3.7/dist-packages (from statsmodels->researchpy) (0.5.1)\n",
            "Requirement already satisfied: pytz>=2017.2 in /usr/local/lib/python3.7/dist-packages (from pandas->researchpy) (2018.9)\n",
            "Requirement already satisfied: python-dateutil>=2.7.3 in /usr/local/lib/python3.7/dist-packages (from pandas->researchpy) (2.8.1)\n",
            "Requirement already satisfied: six in /usr/local/lib/python3.7/dist-packages (from patsy>=0.4.0->statsmodels->researchpy) (1.15.0)\n",
            "Installing collected packages: researchpy\n",
            "Successfully installed researchpy-0.2.3\n"
          ],
          "name": "stdout"
        }
      ]
    },
    {
      "cell_type": "code",
      "metadata": {
        "colab": {
          "base_uri": "https://localhost:8080/"
        },
        "id": "W-PodCs8uzVi",
        "outputId": "fd5fda50-dfd0-47af-e94f-01c51c5b78ba"
      },
      "source": [
        "df2.info()"
      ],
      "execution_count": 40,
      "outputs": [
        {
          "output_type": "stream",
          "text": [
            "<class 'pandas.core.frame.DataFrame'>\n",
            "Int64Index: 46213 entries, 5 to 47670\n",
            "Data columns (total 8 columns):\n",
            " #   Column               Non-Null Count  Dtype  \n",
            "---  ------               --------------  -----  \n",
            " 0   number_of_pushes     46213 non-null  float64\n",
            " 1   number_of_forks      46213 non-null  float64\n",
            " 2   number_of_pulls      46213 non-null  float64\n",
            " 3   number_of_bookmarks  46213 non-null  float64\n",
            " 4   number_of_issues     46213 non-null  float64\n",
            " 5   issue_comment_count  46213 non-null  float64\n",
            " 6   CreateEvent_count    46213 non-null  float64\n",
            " 7   Status               46213 non-null  float64\n",
            "dtypes: float64(8)\n",
            "memory usage: 3.2 MB\n"
          ],
          "name": "stdout"
        }
      ]
    },
    {
      "cell_type": "code",
      "metadata": {
        "id": "kp1W7Ki8vwB3"
      },
      "source": [
        "df2[\"Status\"] = df2.Status.astype(object)"
      ],
      "execution_count": 44,
      "outputs": []
    },
    {
      "cell_type": "code",
      "metadata": {
        "colab": {
          "base_uri": "https://localhost:8080/"
        },
        "id": "7QimW3qbl_0c",
        "outputId": "a34636db-e8d8-490c-ff00-42e9b22f6977"
      },
      "source": [
        "### Conducting a T-test using scipy on Number od Pushed\n",
        "a = df2.loc[df2['Status'] == '1', 'number_of_pushes'].to_numpy()\n",
        "b = df2.loc[df2['Status'] == '1', 'number_of_pushes'].to_numpy()\n",
        "st.ttest_ind(a=a, b=b, equal_var=True)\n",
        "# t test using bioinfokit\n",
        "res = stat()\n",
        "# for unequal variance t-test (Welch's t-test) set evar=False\n",
        "res.ttest(df=df, xfac=\"Status\", res=\"number_of_pushes\", test_type=2)\n",
        "print(res.summary)"
      ],
      "execution_count": 42,
      "outputs": [
        {
          "output_type": "stream",
          "text": [
            "\n",
            "Two sample t-test with equal variance\n",
            "\n",
            "------------------  -------------\n",
            "Mean diff              -0.291627\n",
            "t                      -1.74061\n",
            "Std Error               0.167543\n",
            "df                  46211\n",
            "P-value (one-tail)      0.0408793\n",
            "P-value (two-tail)      0.0817587\n",
            "Lower 95.0%            -0.620014\n",
            "Upper 95.0%             0.0367599\n",
            "------------------  -------------\n",
            "\n",
            "Parameter estimates\n",
            "\n",
            "  Level    Number     Mean    Std Dev    Std Error    Lower 95.0%    Upper 95.0%\n",
            "-------  --------  -------  ---------  -----------  -------------  -------------\n",
            "      0     13810  5.05424    15.5361    0.132204         4.7951         5.31337\n",
            "      1     32403  5.34586    16.8756    0.0937488        5.16211        5.52961\n",
            "\n"
          ],
          "name": "stdout"
        }
      ]
    },
    {
      "cell_type": "code",
      "metadata": {
        "colab": {
          "base_uri": "https://localhost:8080/"
        },
        "id": "OY36RI3AmJQw",
        "outputId": "008bd719-9b74-4cb6-8668-311ca3359750"
      },
      "source": [
        "#### Conducting T-test using scipy on Number of Forks\n",
        "a = df2.loc[df2['Status'] == '1', 'number_of_forks'].to_numpy()\n",
        "b = df2.loc[df2['Status'] == '1', 'number_of_forks'].to_numpy()\n",
        "st.ttest_ind(a=a, b=b, equal_var=True)\n",
        "# t test using bioinfokit\n",
        "res = stat()\n",
        "# for unequal variance t-test (Welch's t-test) set evar=False\n",
        "res.ttest(df=df, xfac=\"Status\", res=\"number_of_forks\", test_type=2)\n",
        "print(res.summary)"
      ],
      "execution_count": 43,
      "outputs": [
        {
          "output_type": "stream",
          "text": [
            "\n",
            "Warning: the two group variance are not equal. Rerun the test with evar=False\n",
            "\n",
            "\n",
            "Two sample t-test with equal variance\n",
            "\n",
            "------------------  ---------------\n",
            "Mean diff               0.289089\n",
            "t                       3.23788\n",
            "Std Error               0.0892832\n",
            "df                  46211\n",
            "P-value (one-tail)      0.000602523\n",
            "P-value (two-tail)      0.00120505\n",
            "Lower 95.0%             0.114092\n",
            "Upper 95.0%             0.464085\n",
            "------------------  ---------------\n",
            "\n",
            "Parameter estimates\n",
            "\n",
            "  Level    Number     Mean    Std Dev    Std Error    Lower 95.0%    Upper 95.0%\n",
            "-------  --------  -------  ---------  -----------  -------------  -------------\n",
            "      0     13810  2.43975    8.70057    0.0740374        2.29463        2.58488\n",
            "      1     32403  2.15067    8.82175    0.0490075        2.05461        2.24672\n",
            "\n"
          ],
          "name": "stdout"
        }
      ]
    },
    {
      "cell_type": "code",
      "metadata": {
        "colab": {
          "base_uri": "https://localhost:8080/"
        },
        "id": "SYpHsber0dy8",
        "outputId": "db9892f5-d3e4-49a5-89d2-5f5890412e7b"
      },
      "source": [
        "#### Conducting T-test using scipy on Number of Pulls\n",
        "a = df2.loc[df2['Status'] == '1', 'number_of_pulls'].to_numpy()\n",
        "b = df2.loc[df2['Status'] == '1', 'number_of_pulls'].to_numpy()\n",
        "st.ttest_ind(a=a, b=b, equal_var=True)\n",
        "# t test using bioinfokit\n",
        "res = stat()\n",
        "# for unequal variance t-test (Welch's t-test) set evar=False\n",
        "res.ttest(df=df, xfac=\"Status\", res=\"number_of_pulls\", test_type=2)\n",
        "print(res.summary)"
      ],
      "execution_count": 45,
      "outputs": [
        {
          "output_type": "stream",
          "text": [
            "\n",
            "Two sample t-test with equal variance\n",
            "\n",
            "------------------  ------------\n",
            "Mean diff              -0.294329\n",
            "t                      -0.934842\n",
            "Std Error               0.314843\n",
            "df                  46211\n",
            "P-value (one-tail)      0.174937\n",
            "P-value (two-tail)      0.349875\n",
            "Lower 95.0%            -0.911427\n",
            "Upper 95.0%             0.322769\n",
            "------------------  ------------\n",
            "\n",
            "Parameter estimates\n",
            "\n",
            "  Level    Number     Mean    Std Dev    Std Error    Lower 95.0%    Upper 95.0%\n",
            "-------  --------  -------  ---------  -----------  -------------  -------------\n",
            "      0     13810  4.88791    29.434      0.250468        4.39696        5.37886\n",
            "      1     32403  5.18224    31.6179     0.175647        4.83796        5.52651\n",
            "\n"
          ],
          "name": "stdout"
        }
      ]
    },
    {
      "cell_type": "code",
      "metadata": {
        "colab": {
          "base_uri": "https://localhost:8080/"
        },
        "id": "swvqLOYC0q7p",
        "outputId": "9cb3ad3c-2b4d-47fe-e01a-c46597d237bb"
      },
      "source": [
        "#### Conducting T-test using scipy on Number of Bookmarks\n",
        "a = df2.loc[df2['Status'] == '1', 'number_of_bookmarks'].to_numpy()\n",
        "b = df2.loc[df2['Status'] == '1', 'number_of_bookmarks'].to_numpy()\n",
        "st.ttest_ind(a=a, b=b, equal_var=True)\n",
        "# t test using bioinfokit\n",
        "res = stat()\n",
        "# for unequal variance t-test (Welch's t-test) set evar=False\n",
        "res.ttest(df=df, xfac=\"Status\", res=\"number_of_bookmarks\", test_type=2)\n",
        "print(res.summary)"
      ],
      "execution_count": 46,
      "outputs": [
        {
          "output_type": "stream",
          "text": [
            "\n",
            "Warning: the two group variance are not equal. Rerun the test with evar=False\n",
            "\n",
            "\n",
            "Two sample t-test with equal variance\n",
            "\n",
            "------------------  -------------\n",
            "Mean diff               0.781026\n",
            "t                       3.07135\n",
            "Std Error               0.254294\n",
            "df                  46211\n",
            "P-value (one-tail)      0.0010661\n",
            "P-value (two-tail)      0.0021322\n",
            "Lower 95.0%             0.282605\n",
            "Upper 95.0%             1.27945\n",
            "------------------  -------------\n",
            "\n",
            "Parameter estimates\n",
            "\n",
            "  Level    Number     Mean    Std Dev    Std Error    Lower 95.0%    Upper 95.0%\n",
            "-------  --------  -------  ---------  -----------  -------------  -------------\n",
            "      0     13810  5.23888    20.3042     0.172778        4.90022        5.57755\n",
            "      1     32403  4.45786    26.7829     0.148787        4.16623        4.74949\n",
            "\n"
          ],
          "name": "stdout"
        }
      ]
    },
    {
      "cell_type": "code",
      "metadata": {
        "colab": {
          "base_uri": "https://localhost:8080/"
        },
        "id": "lmRG9PYl0zrF",
        "outputId": "34176091-4281-485c-e0f3-9b277f0811e1"
      },
      "source": [
        "#### Conducting T-test using scipy on Number of Issues\n",
        "a = df2.loc[df2['Status'] == '1', 'number_of_issues'].to_numpy()\n",
        "b = df2.loc[df2['Status'] == '1', 'number_of_issues'].to_numpy()\n",
        "st.ttest_ind(a=a, b=b, equal_var=True)\n",
        "# t test using bioinfokit\n",
        "res = stat()\n",
        "# for unequal variance t-test (Welch's t-test) set evar=False\n",
        "res.ttest(df=df, xfac=\"Status\", res=\"number_of_issues\", test_type=2)\n",
        "print(res.summary)"
      ],
      "execution_count": 47,
      "outputs": [
        {
          "output_type": "stream",
          "text": [
            "\n",
            "Two sample t-test with equal variance\n",
            "\n",
            "------------------  -------------\n",
            "Mean diff               0.0606897\n",
            "t                       0.99139\n",
            "Std Error               0.0612167\n",
            "df                  46211\n",
            "P-value (one-tail)      0.16075\n",
            "P-value (two-tail)      0.3215\n",
            "Lower 95.0%            -0.0592961\n",
            "Upper 95.0%             0.180675\n",
            "------------------  -------------\n",
            "\n",
            "Parameter estimates\n",
            "\n",
            "  Level    Number      Mean    Std Dev    Std Error    Lower 95.0%    Upper 95.0%\n",
            "-------  --------  --------  ---------  -----------  -------------  -------------\n",
            "      0     13810  0.804417    7.52489    0.0640329       0.678904       0.92993\n",
            "      1     32403  0.743727    5.2555     0.0291959       0.686502       0.800952\n",
            "\n"
          ],
          "name": "stdout"
        }
      ]
    },
    {
      "cell_type": "code",
      "metadata": {
        "colab": {
          "base_uri": "https://localhost:8080/"
        },
        "id": "MSWvF4QI06-l",
        "outputId": "0e23f5ee-8a10-46b9-af26-8a4f2fdf341a"
      },
      "source": [
        "#### Conducting T-test using scipy on Issue Comment Count\n",
        "a = df2.loc[df2['Status'] == '1', 'issue_comment_count'].to_numpy()\n",
        "b = df2.loc[df2['Status'] == '1', 'issue_comment_count'].to_numpy()\n",
        "st.ttest_ind(a=a, b=b, equal_var=True)\n",
        "# t test using bioinfokit\n",
        "res = stat()\n",
        "# for unequal variance t-test (Welch's t-test) set evar=False\n",
        "res.ttest(df=df, xfac=\"Status\", res=\"issue_comment_count\", test_type=2)\n",
        "print(res.summary)"
      ],
      "execution_count": 48,
      "outputs": [
        {
          "output_type": "stream",
          "text": [
            "\n",
            "Two sample t-test with equal variance\n",
            "\n",
            "------------------  ------------\n",
            "Mean diff              -0.934657\n",
            "t                      -0.481011\n",
            "Std Error               1.94311\n",
            "df                  46211\n",
            "P-value (one-tail)      0.315255\n",
            "P-value (two-tail)      0.630511\n",
            "Lower 95.0%            -4.74318\n",
            "Upper 95.0%             2.87386\n",
            "------------------  ------------\n",
            "\n",
            "Parameter estimates\n",
            "\n",
            "  Level    Number     Mean    Std Dev    Std Error    Lower 95.0%    Upper 95.0%\n",
            "-------  --------  -------  ---------  -----------  -------------  -------------\n",
            "      0     13810  20.3931    179.286      1.52563        17.4027        23.3836\n",
            "      1     32403  21.3278    196.068      1.08921        19.1929        23.4627\n",
            "\n"
          ],
          "name": "stdout"
        }
      ]
    },
    {
      "cell_type": "code",
      "metadata": {
        "colab": {
          "base_uri": "https://localhost:8080/"
        },
        "id": "aOrxyRZx1GmZ",
        "outputId": "7cc87902-2e04-403f-8680-793ee7bf1137"
      },
      "source": [
        "#### Conducting T-test using scipy on Create Event Count\n",
        "a = df2.loc[df2['Status'] == '1', 'CreateEvent_count'].to_numpy()\n",
        "b = df2.loc[df2['Status'] == '1', 'CreateEvent_count'].to_numpy()\n",
        "st.ttest_ind(a=a, b=b, equal_var=True)\n",
        "# t test using bioinfokit\n",
        "res = stat()\n",
        "# for unequal variance t-test (Welch's t-test) set evar=False\n",
        "res.ttest(df=df, xfac=\"Status\", res=\"CreateEvent_count\", test_type=2)\n",
        "print(res.summary)"
      ],
      "execution_count": 49,
      "outputs": [
        {
          "output_type": "stream",
          "text": [
            "\n",
            "Warning: the two group variance are not equal. Rerun the test with evar=False\n",
            "\n",
            "\n",
            "Two sample t-test with equal variance\n",
            "\n",
            "------------------  --------------\n",
            "Mean diff              -0.0464438\n",
            "t                      -2.54304\n",
            "Std Error               0.0182631\n",
            "df                  46211\n",
            "P-value (one-tail)      0.00549625\n",
            "P-value (two-tail)      0.0109925\n",
            "Lower 95.0%            -0.0822398\n",
            "Upper 95.0%            -0.0106478\n",
            "------------------  --------------\n",
            "\n",
            "Parameter estimates\n",
            "\n",
            "  Level    Number      Mean    Std Dev    Std Error    Lower 95.0%    Upper 95.0%\n",
            "-------  --------  --------  ---------  -----------  -------------  -------------\n",
            "      0     13810  0.354815    1.46718    0.0124849       0.330343       0.379287\n",
            "      1     32403  0.401259    1.92061    0.0106696       0.380346       0.422172\n",
            "\n"
          ],
          "name": "stdout"
        }
      ]
    },
    {
      "cell_type": "code",
      "metadata": {
        "id": "1YWmLNBA-XZi"
      },
      "source": [
        "### Normalization using Min Max Scaler\n",
        "from sklearn.preprocessing import MinMaxScaler\n",
        "scaler = MinMaxScaler() \n",
        "\n",
        "X1 = X\n",
        "Columns = X1.columns\n",
        "X1 = scaler.fit_transform(X1)\n",
        "X1 = pd.DataFrame(X1, columns=Columns)"
      ],
      "execution_count": 50,
      "outputs": []
    },
    {
      "cell_type": "code",
      "metadata": {
        "id": "Zt_lU29OCdXQ",
        "colab": {
          "base_uri": "https://localhost:8080/"
        },
        "outputId": "17891e4e-fb8d-4d09-f385-e9694f8da609"
      },
      "source": [
        "### Running a Random Forest model\n",
        "\n",
        "## Train-test Split\n",
        "from sklearn.model_selection import  train_test_split\n",
        "X_train, X_test, y_train, y_test = train_test_split(X1, y, test_size=0.3, shuffle=True)\n",
        "\n",
        "# Training a basal random forest model\n",
        "from sklearn.ensemble import RandomForestClassifier\n",
        "\n",
        "# Create the model with 100 trees\n",
        "model = RandomForestClassifier(n_estimators=500, \n",
        "                               bootstrap = True,\n",
        "                               max_features = 'sqrt')\n",
        "# Fit on training data\n",
        "model.fit(X_train, y_train)\n",
        "\n",
        "# prediction and Feature importance\n",
        "rf_predictions = model.predict(X_test)\n",
        "feature_imp = pd.Series(model.feature_importances_,index=X.columns).sort_values(ascending=False)\n",
        "feature_imp"
      ],
      "execution_count": 52,
      "outputs": [
        {
          "output_type": "stream",
          "text": [
            "/usr/local/lib/python3.7/dist-packages/ipykernel_launcher.py:15: DataConversionWarning:\n",
            "\n",
            "A column-vector y was passed when a 1d array was expected. Please change the shape of y to (n_samples,), for example using ravel().\n",
            "\n"
          ],
          "name": "stderr"
        },
        {
          "output_type": "execute_result",
          "data": {
            "text/plain": [
              "number_of_bookmarks    0.263886\n",
              "issue_comment_count    0.205552\n",
              "number_of_pulls        0.205189\n",
              "number_of_forks        0.174273\n",
              "CreateEvent_count      0.078926\n",
              "number_of_issues       0.072175\n",
              "dtype: float64"
            ]
          },
          "metadata": {
            "tags": []
          },
          "execution_count": 52
        }
      ]
    },
    {
      "cell_type": "code",
      "metadata": {
        "colab": {
          "base_uri": "https://localhost:8080/"
        },
        "id": "TDtkf57XDOVf",
        "outputId": "0f4c3f4c-ba3c-4e91-a995-fb61e025bf36"
      },
      "source": [
        "### Confusion Matrix\n",
        "import sklearn\n",
        "sklearn.metrics.confusion_matrix(y_test, rf_predictions, labels=None, sample_weight=None, normalize=None)"
      ],
      "execution_count": null,
      "outputs": [
        {
          "output_type": "execute_result",
          "data": {
            "text/plain": [
              "array([[ 646, 3446],\n",
              "       [ 753, 9019]])"
            ]
          },
          "metadata": {
            "tags": []
          },
          "execution_count": 26
        }
      ]
    },
    {
      "cell_type": "code",
      "metadata": {
        "colab": {
          "base_uri": "https://localhost:8080/"
        },
        "id": "CtXsHSRPDq9V",
        "outputId": "87b15d6f-6811-43b5-f6e3-12832758fa7a"
      },
      "source": [
        "### Checking parameters in use\n",
        "\n",
        "from sklearn.ensemble import RandomForestClassifier\n",
        "rf = RandomForestClassifier(random_state = 42)\n",
        "from pprint import pprint\n",
        "# Look at parameters used by our current forest\n",
        "print('Parameters currently in use:\\n')\n",
        "pprint(rf.get_params())"
      ],
      "execution_count": null,
      "outputs": [
        {
          "output_type": "stream",
          "text": [
            "Parameters currently in use:\n",
            "\n",
            "{'bootstrap': True,\n",
            " 'ccp_alpha': 0.0,\n",
            " 'class_weight': None,\n",
            " 'criterion': 'gini',\n",
            " 'max_depth': None,\n",
            " 'max_features': 'auto',\n",
            " 'max_leaf_nodes': None,\n",
            " 'max_samples': None,\n",
            " 'min_impurity_decrease': 0.0,\n",
            " 'min_impurity_split': None,\n",
            " 'min_samples_leaf': 1,\n",
            " 'min_samples_split': 2,\n",
            " 'min_weight_fraction_leaf': 0.0,\n",
            " 'n_estimators': 100,\n",
            " 'n_jobs': None,\n",
            " 'oob_score': False,\n",
            " 'random_state': 42,\n",
            " 'verbose': 0,\n",
            " 'warm_start': False}\n"
          ],
          "name": "stdout"
        }
      ]
    },
    {
      "cell_type": "code",
      "metadata": {
        "colab": {
          "base_uri": "https://localhost:8080/"
        },
        "id": "__DiE7OcEccN",
        "outputId": "78212031-6d95-40b2-e9eb-3b28caebcc65"
      },
      "source": [
        "from sklearn.model_selection import RandomizedSearchCV\n",
        "# Number of trees in random forest\n",
        "n_estimators = [int(x) for x in np.linspace(start = 200, stop = 2000, num = 10)]\n",
        "# Number of features to consider at every split\n",
        "max_features = ['auto', 'sqrt']\n",
        "# Maximum number of levels in tree\n",
        "max_depth = [int(x) for x in np.linspace(10, 110, num = 11)]\n",
        "max_depth.append(None)\n",
        "# Minimum number of samples required to split a node\n",
        "min_samples_split = [2, 5, 10]\n",
        "# Minimum number of samples required at each leaf node\n",
        "min_samples_leaf = [1, 2, 4]\n",
        "# Method of selecting samples for training each tree\n",
        "bootstrap = [True, False]\n",
        "# Create the random grid\n",
        "random_grid = {'n_estimators': n_estimators,\n",
        "               'max_features': max_features,\n",
        "               'max_depth': max_depth,\n",
        "               'min_samples_split': min_samples_split,\n",
        "               'min_samples_leaf': min_samples_leaf,\n",
        "               'bootstrap': bootstrap}\n",
        "pprint(random_grid)"
      ],
      "execution_count": null,
      "outputs": [
        {
          "output_type": "stream",
          "text": [
            "{'bootstrap': [True, False],\n",
            " 'max_depth': [10, 20, 30, 40, 50, 60, 70, 80, 90, 100, 110, None],\n",
            " 'max_features': ['auto', 'sqrt'],\n",
            " 'min_samples_leaf': [1, 2, 4],\n",
            " 'min_samples_split': [2, 5, 10],\n",
            " 'n_estimators': [200, 400, 600, 800, 1000, 1200, 1400, 1600, 1800, 2000]}\n"
          ],
          "name": "stdout"
        }
      ]
    },
    {
      "cell_type": "code",
      "metadata": {
        "colab": {
          "base_uri": "https://localhost:8080/"
        },
        "id": "-5hZEULwE356",
        "outputId": "82fc0649-e979-4313-b91a-fdd9cca4d9ed"
      },
      "source": [
        "# Use the random grid to search for best hyperparameters\n",
        "# First create the base model to tune\n",
        "rf = RandomForestClassifier()\n",
        "# Random search of parameters, using 3 fold cross validation, \n",
        "# search across 100 different combinations, and use all available cores\n",
        "rf_random = RandomizedSearchCV(estimator = rf, param_distributions = random_grid, n_iter = 100, cv = 3, verbose=2, random_state=42, n_jobs = -1)\n",
        "# Fit the random search model\n",
        "rf_random.fit(X_train, y_train)"
      ],
      "execution_count": null,
      "outputs": [
        {
          "output_type": "stream",
          "text": [
            "Fitting 3 folds for each of 100 candidates, totalling 300 fits\n"
          ],
          "name": "stdout"
        },
        {
          "output_type": "stream",
          "text": [
            "[Parallel(n_jobs=-1)]: Using backend LokyBackend with 2 concurrent workers.\n",
            "/usr/local/lib/python3.7/dist-packages/joblib/externals/loky/process_executor.py:691: UserWarning: A worker stopped while some jobs were given to the executor. This can be caused by a too short worker timeout or by a memory leak.\n",
            "  \"timeout or by a memory leak.\", UserWarning\n",
            "[Parallel(n_jobs=-1)]: Done  37 tasks      | elapsed:  7.6min\n",
            "[Parallel(n_jobs=-1)]: Done 158 tasks      | elapsed: 33.6min\n",
            "[Parallel(n_jobs=-1)]: Done 300 out of 300 | elapsed: 61.7min finished\n",
            "/usr/local/lib/python3.7/dist-packages/sklearn/model_selection/_search.py:739: DataConversionWarning: A column-vector y was passed when a 1d array was expected. Please change the shape of y to (n_samples,), for example using ravel().\n",
            "  self.best_estimator_.fit(X, y, **fit_params)\n"
          ],
          "name": "stderr"
        },
        {
          "output_type": "execute_result",
          "data": {
            "text/plain": [
              "RandomizedSearchCV(cv=3, error_score=nan,\n",
              "                   estimator=RandomForestClassifier(bootstrap=True,\n",
              "                                                    ccp_alpha=0.0,\n",
              "                                                    class_weight=None,\n",
              "                                                    criterion='gini',\n",
              "                                                    max_depth=None,\n",
              "                                                    max_features='auto',\n",
              "                                                    max_leaf_nodes=None,\n",
              "                                                    max_samples=None,\n",
              "                                                    min_impurity_decrease=0.0,\n",
              "                                                    min_impurity_split=None,\n",
              "                                                    min_samples_leaf=1,\n",
              "                                                    min_samples_split=2,\n",
              "                                                    min_weight_fraction_leaf=0.0,\n",
              "                                                    n_estimators=100,\n",
              "                                                    n_jobs...\n",
              "                   param_distributions={'bootstrap': [True, False],\n",
              "                                        'max_depth': [10, 20, 30, 40, 50, 60,\n",
              "                                                      70, 80, 90, 100, 110,\n",
              "                                                      None],\n",
              "                                        'max_features': ['auto', 'sqrt'],\n",
              "                                        'min_samples_leaf': [1, 2, 4],\n",
              "                                        'min_samples_split': [2, 5, 10],\n",
              "                                        'n_estimators': [200, 400, 600, 800,\n",
              "                                                         1000, 1200, 1400, 1600,\n",
              "                                                         1800, 2000]},\n",
              "                   pre_dispatch='2*n_jobs', random_state=42, refit=True,\n",
              "                   return_train_score=False, scoring=None, verbose=2)"
            ]
          },
          "metadata": {
            "tags": []
          },
          "execution_count": 31
        }
      ]
    },
    {
      "cell_type": "code",
      "metadata": {
        "colab": {
          "base_uri": "https://localhost:8080/"
        },
        "id": "S53eFCVCcJja",
        "outputId": "634bfa2f-980a-42ba-c0d7-8179bf6496dd"
      },
      "source": [
        "rf_random.best_params_"
      ],
      "execution_count": null,
      "outputs": [
        {
          "output_type": "execute_result",
          "data": {
            "text/plain": [
              "{'bootstrap': True,\n",
              " 'max_depth': 10,\n",
              " 'max_features': 'sqrt',\n",
              " 'min_samples_leaf': 1,\n",
              " 'min_samples_split': 5,\n",
              " 'n_estimators': 2000}"
            ]
          },
          "metadata": {
            "tags": []
          },
          "execution_count": 32
        }
      ]
    },
    {
      "cell_type": "code",
      "metadata": {
        "colab": {
          "base_uri": "https://localhost:8080/"
        },
        "id": "HNn0TdvCcSYc",
        "outputId": "16c7ffef-5d5b-4d8a-bc74-c7e2c138a2e4"
      },
      "source": [
        "base_model = RandomForestClassifier(n_estimators = 2000, random_state = 42, bootstrap=True, max_depth=10, max_features='sqrt', min_samples_leaf=1, min_samples_split=5)\n",
        "base_model.fit(X_train, y_train)"
      ],
      "execution_count": null,
      "outputs": [
        {
          "output_type": "stream",
          "text": [
            "/usr/local/lib/python3.7/dist-packages/ipykernel_launcher.py:2: DataConversionWarning: A column-vector y was passed when a 1d array was expected. Please change the shape of y to (n_samples,), for example using ravel().\n",
            "  \n"
          ],
          "name": "stderr"
        },
        {
          "output_type": "execute_result",
          "data": {
            "text/plain": [
              "RandomForestClassifier(bootstrap=True, ccp_alpha=0.0, class_weight=None,\n",
              "                       criterion='gini', max_depth=10, max_features='sqrt',\n",
              "                       max_leaf_nodes=None, max_samples=None,\n",
              "                       min_impurity_decrease=0.0, min_impurity_split=None,\n",
              "                       min_samples_leaf=1, min_samples_split=5,\n",
              "                       min_weight_fraction_leaf=0.0, n_estimators=2000,\n",
              "                       n_jobs=None, oob_score=False, random_state=42, verbose=0,\n",
              "                       warm_start=False)"
            ]
          },
          "metadata": {
            "tags": []
          },
          "execution_count": 20
        }
      ]
    },
    {
      "cell_type": "code",
      "metadata": {
        "colab": {
          "base_uri": "https://localhost:8080/"
        },
        "id": "vrsArCXfxZXm",
        "outputId": "5a7445cb-98ad-48ec-e548-b60b9c800ac4"
      },
      "source": [
        "### Feature importance or best model\n",
        "\n",
        "rf_predictions = base_model.predict(X_test)\n",
        "feature_imp = pd.Series(base_model.feature_importances_,index=X.columns).sort_values(ascending=False)\n",
        "feature_imp"
      ],
      "execution_count": null,
      "outputs": [
        {
          "output_type": "execute_result",
          "data": {
            "text/plain": [
              "number_of_bookmarks    0.268020\n",
              "number_of_pushes       0.167759\n",
              "issue_comment_count    0.155751\n",
              "number_of_pulls        0.136240\n",
              "number_of_forks        0.131161\n",
              "CreateEvent_count      0.071251\n",
              "number_of_issues       0.069819\n",
              "dtype: float64"
            ]
          },
          "metadata": {
            "tags": []
          },
          "execution_count": 21
        }
      ]
    },
    {
      "cell_type": "code",
      "metadata": {
        "colab": {
          "base_uri": "https://localhost:8080/"
        },
        "id": "SsGTQv0kxtCz",
        "outputId": "8f32666b-150e-471b-8902-ec714e97b546"
      },
      "source": [
        "sklearn.metrics.confusion_matrix(y_test, rf_predictions, labels=None, sample_weight=None, normalize=None)"
      ],
      "execution_count": null,
      "outputs": [
        {
          "output_type": "execute_result",
          "data": {
            "text/plain": [
              "array([[  83, 4033],\n",
              "       [  87, 9661]])"
            ]
          },
          "metadata": {
            "tags": []
          },
          "execution_count": 24
        }
      ]
    },
    {
      "cell_type": "code",
      "metadata": {
        "id": "IThtUKb22Cjz"
      },
      "source": [
        "### Converting weights to list\n",
        "weights = feature_imp.tolist()"
      ],
      "execution_count": null,
      "outputs": []
    },
    {
      "cell_type": "code",
      "metadata": {
        "id": "vzffO3vV2Tcw"
      },
      "source": [
        "df3 = df1"
      ],
      "execution_count": null,
      "outputs": []
    },
    {
      "cell_type": "code",
      "metadata": {
        "colab": {
          "base_uri": "https://localhost:8080/"
        },
        "id": "cB6RkC-g2Y9k",
        "outputId": "42606d53-8187-4064-efb8-205d2f476ed9"
      },
      "source": [
        "df3.info()"
      ],
      "execution_count": null,
      "outputs": [
        {
          "output_type": "stream",
          "text": [
            "<class 'pandas.core.frame.DataFrame'>\n",
            "Int64Index: 46213 entries, 5 to 47670\n",
            "Data columns (total 15 columns):\n",
            " #   Column               Non-Null Count  Dtype  \n",
            "---  ------               --------------  -----  \n",
            " 0   Unnamed: 0           46213 non-null  int64  \n",
            " 1   datetime             46213 non-null  object \n",
            " 2   year                 46213 non-null  int64  \n",
            " 3   month                46213 non-null  int64  \n",
            " 4   day                  46213 non-null  int64  \n",
            " 5   number_of_pushes     46213 non-null  float64\n",
            " 6   number_of_forks      46213 non-null  float64\n",
            " 7   number_of_pulls      46213 non-null  float64\n",
            " 8   number_of_bookmarks  46213 non-null  float64\n",
            " 9   number_of_issues     46213 non-null  float64\n",
            " 10  issue_comment_count  46213 non-null  float64\n",
            " 11  CreateEvent_count    46213 non-null  float64\n",
            " 12  Total_count          46213 non-null  float64\n",
            " 13  Status               46213 non-null  float64\n",
            " 14  repoID               46213 non-null  int64  \n",
            "dtypes: float64(9), int64(5), object(1)\n",
            "memory usage: 5.6+ MB\n"
          ],
          "name": "stdout"
        }
      ]
    },
    {
      "cell_type": "code",
      "metadata": {
        "colab": {
          "base_uri": "https://localhost:8080/"
        },
        "id": "kUJalMsU_FD-",
        "outputId": "0956539d-e3b1-4e3b-e935-ad8922c4f73f"
      },
      "source": [
        "weights_dist"
      ],
      "execution_count": null,
      "outputs": [
        {
          "output_type": "execute_result",
          "data": {
            "text/plain": [
              "{'CreateEvent_count': 0.071251,\n",
              " 'issue_comment_count': 0.155751,\n",
              " 'number_of_bookmarks': 0.26802,\n",
              " 'number_of_forks': 0.131161,\n",
              " 'number_of_issues': 0.069819,\n",
              " 'number_of_pulls': 0.13624,\n",
              " 'number_of_pushes': 0.167759}"
            ]
          },
          "metadata": {
            "tags": []
          },
          "execution_count": 56
        }
      ]
    },
    {
      "cell_type": "code",
      "metadata": {
        "id": "huS2oEQLFy7V"
      },
      "source": [
        "weights = [0.167759, 0.131161, 0.136240, 0.268020, 0.069819, 0.155751, 0.071251] \n",
        "weights_array = np.array(weights)"
      ],
      "execution_count": null,
      "outputs": []
    },
    {
      "cell_type": "code",
      "metadata": {
        "colab": {
          "base_uri": "https://localhost:8080/"
        },
        "id": "sDz8xKK1FHew",
        "outputId": "f4f871ef-8fcc-414e-c601-4467a7d4102d"
      },
      "source": [
        "weights_array.reshape(7,1)"
      ],
      "execution_count": null,
      "outputs": [
        {
          "output_type": "execute_result",
          "data": {
            "text/plain": [
              "array([[0.167759],\n",
              "       [0.131161],\n",
              "       [0.13624 ],\n",
              "       [0.26802 ],\n",
              "       [0.069819],\n",
              "       [0.155751],\n",
              "       [0.071251]])"
            ]
          },
          "metadata": {
            "tags": []
          },
          "execution_count": 82
        }
      ]
    },
    {
      "cell_type": "code",
      "metadata": {
        "id": "dkhCa2RXMGph"
      },
      "source": [
        "df3 = df1"
      ],
      "execution_count": null,
      "outputs": []
    },
    {
      "cell_type": "code",
      "metadata": {
        "id": "GUIVoJtKHCO_"
      },
      "source": [
        "def riskscorecalculation(df):\n",
        "  columns = ['number_of_pushes', 'number_of_forks', 'number_of_pulls', 'number_of_bookmarks', 'number_of_issues', 'issue_comment_count', 'CreateEvent_count']\n",
        "  weights = [0.167759, 0.131161, 0.136240, 0.268020, 0.069819, 0.155751, 0.071251]\n",
        "  weights_array = np.array(weights)\n",
        "  data = np.array(df.iloc[:,5:12])\n",
        "  df[\"risk_score\"] = np.dot(data, weights_array)"
      ],
      "execution_count": null,
      "outputs": []
    },
    {
      "cell_type": "code",
      "metadata": {
        "colab": {
          "base_uri": "https://localhost:8080/"
        },
        "id": "POa2lDH8Lvfz",
        "outputId": "3b38ce1b-851a-4394-9067-5d6aaa8c72e8"
      },
      "source": [
        "df4 = riskscorecalculation(df3)"
      ],
      "execution_count": null,
      "outputs": [
        {
          "output_type": "stream",
          "text": [
            "/usr/local/lib/python3.7/dist-packages/ipykernel_launcher.py:6: SettingWithCopyWarning: \n",
            "A value is trying to be set on a copy of a slice from a DataFrame.\n",
            "Try using .loc[row_indexer,col_indexer] = value instead\n",
            "\n",
            "See the caveats in the documentation: https://pandas.pydata.org/pandas-docs/stable/user_guide/indexing.html#returning-a-view-versus-a-copy\n",
            "  \n"
          ],
          "name": "stderr"
        }
      ]
    },
    {
      "cell_type": "code",
      "metadata": {
        "colab": {
          "base_uri": "https://localhost:8080/"
        },
        "id": "avdNFL2JCE2g",
        "outputId": "bce23a3e-a116-4e64-c442-e16175b8e53f"
      },
      "source": [
        "df3['Normalised_Activity_Score'] = df3.groupby('repoID')['risk_score'].apply(lambda x: (x-x.min())/(x.max()-x.min()))"
      ],
      "execution_count": null,
      "outputs": [
        {
          "output_type": "stream",
          "text": [
            "/usr/local/lib/python3.7/dist-packages/ipykernel_launcher.py:1: SettingWithCopyWarning: \n",
            "A value is trying to be set on a copy of a slice from a DataFrame.\n",
            "Try using .loc[row_indexer,col_indexer] = value instead\n",
            "\n",
            "See the caveats in the documentation: https://pandas.pydata.org/pandas-docs/stable/user_guide/indexing.html#returning-a-view-versus-a-copy\n",
            "  \"\"\"Entry point for launching an IPython kernel.\n"
          ],
          "name": "stderr"
        }
      ]
    },
    {
      "cell_type": "code",
      "metadata": {
        "colab": {
          "base_uri": "https://localhost:8080/",
          "height": 326
        },
        "id": "sWPZ6SV8PfMs",
        "outputId": "7c7a1895-a2f8-41ba-d993-68b166dacebc"
      },
      "source": [
        "df3.head()"
      ],
      "execution_count": null,
      "outputs": [
        {
          "output_type": "execute_result",
          "data": {
            "text/html": [
              "<div>\n",
              "<style scoped>\n",
              "    .dataframe tbody tr th:only-of-type {\n",
              "        vertical-align: middle;\n",
              "    }\n",
              "\n",
              "    .dataframe tbody tr th {\n",
              "        vertical-align: top;\n",
              "    }\n",
              "\n",
              "    .dataframe thead th {\n",
              "        text-align: right;\n",
              "    }\n",
              "</style>\n",
              "<table border=\"1\" class=\"dataframe\">\n",
              "  <thead>\n",
              "    <tr style=\"text-align: right;\">\n",
              "      <th></th>\n",
              "      <th>Unnamed: 0</th>\n",
              "      <th>datetime</th>\n",
              "      <th>year</th>\n",
              "      <th>month</th>\n",
              "      <th>day</th>\n",
              "      <th>number_of_pushes</th>\n",
              "      <th>number_of_forks</th>\n",
              "      <th>number_of_pulls</th>\n",
              "      <th>number_of_bookmarks</th>\n",
              "      <th>number_of_issues</th>\n",
              "      <th>issue_comment_count</th>\n",
              "      <th>CreateEvent_count</th>\n",
              "      <th>Total_count</th>\n",
              "      <th>Status</th>\n",
              "      <th>repoID</th>\n",
              "      <th>risk_score</th>\n",
              "      <th>Normalised_Activity_Score</th>\n",
              "    </tr>\n",
              "  </thead>\n",
              "  <tbody>\n",
              "    <tr>\n",
              "      <th>5</th>\n",
              "      <td>5</td>\n",
              "      <td>2011-03-20</td>\n",
              "      <td>2011</td>\n",
              "      <td>3</td>\n",
              "      <td>20</td>\n",
              "      <td>87.0</td>\n",
              "      <td>5.0</td>\n",
              "      <td>7.0</td>\n",
              "      <td>31.0</td>\n",
              "      <td>0.0</td>\n",
              "      <td>0.0</td>\n",
              "      <td>1.0</td>\n",
              "      <td>131.0</td>\n",
              "      <td>1.0</td>\n",
              "      <td>108110</td>\n",
              "      <td>24.584389</td>\n",
              "      <td>0.056643</td>\n",
              "    </tr>\n",
              "    <tr>\n",
              "      <th>6</th>\n",
              "      <td>6</td>\n",
              "      <td>2011-03-27</td>\n",
              "      <td>2011</td>\n",
              "      <td>3</td>\n",
              "      <td>27</td>\n",
              "      <td>26.0</td>\n",
              "      <td>4.0</td>\n",
              "      <td>1.0</td>\n",
              "      <td>25.0</td>\n",
              "      <td>0.0</td>\n",
              "      <td>0.0</td>\n",
              "      <td>1.0</td>\n",
              "      <td>57.0</td>\n",
              "      <td>0.0</td>\n",
              "      <td>108110</td>\n",
              "      <td>11.794369</td>\n",
              "      <td>0.027175</td>\n",
              "    </tr>\n",
              "    <tr>\n",
              "      <th>7</th>\n",
              "      <td>7</td>\n",
              "      <td>2011-04-03</td>\n",
              "      <td>2011</td>\n",
              "      <td>4</td>\n",
              "      <td>3</td>\n",
              "      <td>58.0</td>\n",
              "      <td>1.0</td>\n",
              "      <td>0.0</td>\n",
              "      <td>27.0</td>\n",
              "      <td>0.0</td>\n",
              "      <td>0.0</td>\n",
              "      <td>1.0</td>\n",
              "      <td>87.0</td>\n",
              "      <td>1.0</td>\n",
              "      <td>108110</td>\n",
              "      <td>17.168974</td>\n",
              "      <td>0.039558</td>\n",
              "    </tr>\n",
              "    <tr>\n",
              "      <th>8</th>\n",
              "      <td>8</td>\n",
              "      <td>2011-04-10</td>\n",
              "      <td>2011</td>\n",
              "      <td>4</td>\n",
              "      <td>10</td>\n",
              "      <td>86.0</td>\n",
              "      <td>4.0</td>\n",
              "      <td>1.0</td>\n",
              "      <td>25.0</td>\n",
              "      <td>0.0</td>\n",
              "      <td>0.0</td>\n",
              "      <td>1.0</td>\n",
              "      <td>117.0</td>\n",
              "      <td>1.0</td>\n",
              "      <td>108110</td>\n",
              "      <td>21.859909</td>\n",
              "      <td>0.050366</td>\n",
              "    </tr>\n",
              "    <tr>\n",
              "      <th>9</th>\n",
              "      <td>9</td>\n",
              "      <td>2011-04-17</td>\n",
              "      <td>2011</td>\n",
              "      <td>4</td>\n",
              "      <td>17</td>\n",
              "      <td>65.0</td>\n",
              "      <td>6.0</td>\n",
              "      <td>1.0</td>\n",
              "      <td>30.0</td>\n",
              "      <td>0.0</td>\n",
              "      <td>0.0</td>\n",
              "      <td>0.0</td>\n",
              "      <td>102.0</td>\n",
              "      <td>1.0</td>\n",
              "      <td>108110</td>\n",
              "      <td>19.868141</td>\n",
              "      <td>0.045777</td>\n",
              "    </tr>\n",
              "  </tbody>\n",
              "</table>\n",
              "</div>"
            ],
            "text/plain": [
              "   Unnamed: 0    datetime  year  ...  repoID  risk_score  Normalised_Activity_Score\n",
              "5           5  2011-03-20  2011  ...  108110   24.584389                   0.056643\n",
              "6           6  2011-03-27  2011  ...  108110   11.794369                   0.027175\n",
              "7           7  2011-04-03  2011  ...  108110   17.168974                   0.039558\n",
              "8           8  2011-04-10  2011  ...  108110   21.859909                   0.050366\n",
              "9           9  2011-04-17  2011  ...  108110   19.868141                   0.045777\n",
              "\n",
              "[5 rows x 17 columns]"
            ]
          },
          "metadata": {
            "tags": []
          },
          "execution_count": 108
        }
      ]
    },
    {
      "cell_type": "code",
      "metadata": {
        "id": "riif0EEDPgVp"
      },
      "source": [
        "df3.to_csv('/content/drive/MyDrive/Capstone_project/Test_Weekly_Activity_Score_RF.csv')"
      ],
      "execution_count": null,
      "outputs": []
    },
    {
      "cell_type": "code",
      "metadata": {
        "id": "ySRtWjQwQF7b"
      },
      "source": [
        "df3 = pd.read_csv('/content/drive/MyDrive/Capstone_project/Test_Weekly_Activity_Score_RF.csv')"
      ],
      "execution_count": null,
      "outputs": []
    },
    {
      "cell_type": "code",
      "metadata": {
        "colab": {
          "base_uri": "https://localhost:8080/"
        },
        "id": "p6-ER6SnmH4D",
        "outputId": "4d215647-169f-437b-dbb4-8c622b40deb5"
      },
      "source": [
        "df3.info()"
      ],
      "execution_count": null,
      "outputs": [
        {
          "output_type": "stream",
          "text": [
            "<class 'pandas.core.frame.DataFrame'>\n",
            "RangeIndex: 46213 entries, 0 to 46212\n",
            "Data columns (total 18 columns):\n",
            " #   Column                     Non-Null Count  Dtype  \n",
            "---  ------                     --------------  -----  \n",
            " 0   Unnamed: 0                 46213 non-null  int64  \n",
            " 1   Unnamed: 0.1               46213 non-null  int64  \n",
            " 2   datetime                   46213 non-null  object \n",
            " 3   year                       46213 non-null  int64  \n",
            " 4   month                      46213 non-null  int64  \n",
            " 5   day                        46213 non-null  int64  \n",
            " 6   number_of_pushes           46213 non-null  float64\n",
            " 7   number_of_forks            46213 non-null  float64\n",
            " 8   number_of_pulls            46213 non-null  float64\n",
            " 9   number_of_bookmarks        46213 non-null  float64\n",
            " 10  number_of_issues           46213 non-null  float64\n",
            " 11  issue_comment_count        46213 non-null  float64\n",
            " 12  CreateEvent_count          46213 non-null  float64\n",
            " 13  Total_count                46213 non-null  float64\n",
            " 14  Status                     46213 non-null  float64\n",
            " 15  repoID                     46213 non-null  int64  \n",
            " 16  risk_score                 46213 non-null  float64\n",
            " 17  Normalised_Activity_Score  46210 non-null  float64\n",
            "dtypes: float64(11), int64(6), object(1)\n",
            "memory usage: 6.3+ MB\n"
          ],
          "name": "stdout"
        }
      ]
    },
    {
      "cell_type": "code",
      "metadata": {
        "id": "kXhd82kNl4pQ"
      },
      "source": [
        "plt.hist(df3.groupby(\"repoID\")[\"Normalised_Activity_Score\"])\n",
        "plt.show()"
      ],
      "execution_count": null,
      "outputs": []
    },
    {
      "cell_type": "code",
      "metadata": {
        "colab": {
          "base_uri": "https://localhost:8080/",
          "height": 316
        },
        "id": "ZdIPprl7mCYh",
        "outputId": "3084a505-51af-4413-d2c4-9a13ace5e973"
      },
      "source": [
        "x1 = df3.loc[df.repoID==309009]\n",
        "plt.hist(x1[\"Normalised_Activity_Score\"])"
      ],
      "execution_count": null,
      "outputs": [
        {
          "output_type": "execute_result",
          "data": {
            "text/plain": [
              "(array([262., 110.,  47.,  22.,  11.,   6.,   1.,   4.,   1.,   3.]),\n",
              " array([0. , 0.1, 0.2, 0.3, 0.4, 0.5, 0.6, 0.7, 0.8, 0.9, 1. ]),\n",
              " <a list of 10 Patch objects>)"
            ]
          },
          "metadata": {
            "tags": []
          },
          "execution_count": 143
        },
        {
          "output_type": "display_data",
          "data": {
            "image/png": "[encoded data removed]",
            "text/plain": [
              "<Figure size 432x288 with 1 Axes>"
            ]
          },
          "metadata": {
            "tags": [],
            "needs_background": "light"
          }
        }
      ]
    },
    {
      "cell_type": "code",
      "metadata": {
        "colab": {
          "base_uri": "https://localhost:8080/",
          "height": 86
        },
        "id": "K8ghI8FdqAWQ",
        "outputId": "5c165342-3ac8-4429-e7ea-4178e1278ad6"
      },
      "source": [
        "x1.head()"
      ],
      "execution_count": null,
      "outputs": [
        {
          "output_type": "execute_result",
          "data": {
            "text/html": [
              "<div>\n",
              "<style scoped>\n",
              "    .dataframe tbody tr th:only-of-type {\n",
              "        vertical-align: middle;\n",
              "    }\n",
              "\n",
              "    .dataframe tbody tr th {\n",
              "        vertical-align: top;\n",
              "    }\n",
              "\n",
              "    .dataframe thead th {\n",
              "        text-align: right;\n",
              "    }\n",
              "</style>\n",
              "<table border=\"1\" class=\"dataframe\">\n",
              "  <thead>\n",
              "    <tr style=\"text-align: right;\">\n",
              "      <th></th>\n",
              "      <th>Unnamed: 0</th>\n",
              "      <th>Unnamed: 0.1</th>\n",
              "      <th>datetime</th>\n",
              "      <th>year</th>\n",
              "      <th>month</th>\n",
              "      <th>day</th>\n",
              "      <th>number_of_pushes</th>\n",
              "      <th>number_of_forks</th>\n",
              "      <th>number_of_pulls</th>\n",
              "      <th>number_of_bookmarks</th>\n",
              "      <th>number_of_issues</th>\n",
              "      <th>issue_comment_count</th>\n",
              "      <th>CreateEvent_count</th>\n",
              "      <th>Total_count</th>\n",
              "      <th>Status</th>\n",
              "      <th>repoID</th>\n",
              "      <th>risk_score</th>\n",
              "      <th>Normalised_Activity_Score</th>\n",
              "    </tr>\n",
              "  </thead>\n",
              "  <tbody>\n",
              "  </tbody>\n",
              "</table>\n",
              "</div>"
            ],
            "text/plain": [
              "Empty DataFrame\n",
              "Columns: [Unnamed: 0, Unnamed: 0.1, datetime, year, month, day, number_of_pushes, number_of_forks, number_of_pulls, number_of_bookmarks, number_of_issues, issue_comment_count, CreateEvent_count, Total_count, Status, repoID, risk_score, Normalised_Activity_Score]\n",
              "Index: []"
            ]
          },
          "metadata": {
            "tags": []
          },
          "execution_count": 141
        }
      ]
    },
    {
      "cell_type": "code",
      "metadata": {
        "colab": {
          "base_uri": "https://localhost:8080/"
        },
        "id": "1_lyk_oTn038",
        "outputId": "0bf572f6-20b1-43a4-fa0d-20eabef9b0e4"
      },
      "source": [
        "df3[\"repoID\"].value_counts()"
      ],
      "execution_count": null,
      "outputs": [
        {
          "output_type": "execute_result",
          "data": {
            "text/plain": [
              "108050       462\n",
              "309009       462\n",
              "699689       462\n",
              "462292       462\n",
              "206402       462\n",
              "            ... \n",
              "197049571      2\n",
              "181356720      2\n",
              "54102331       1\n",
              "227198066      1\n",
              "228103273      1\n",
              "Name: repoID, Length: 279, dtype: int64"
            ]
          },
          "metadata": {
            "tags": []
          },
          "execution_count": 136
        }
      ]
    },
    {
      "cell_type": "code",
      "metadata": {
        "id": "YEVyssY2oP3Q"
      },
      "source": [
        ""
      ],
      "execution_count": null,
      "outputs": []
    }
  ]
}