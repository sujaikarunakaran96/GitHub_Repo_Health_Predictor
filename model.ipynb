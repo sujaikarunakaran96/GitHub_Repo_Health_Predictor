{
  "nbformat": 4,
  "nbformat_minor": 0,
  "metadata": {
    "colab": {
      "name": "model.ipynb",
      "provenance": []
    },
    "kernelspec": {
      "name": "python3",
      "display_name": "Python 3"
    },
    "language_info": {
      "name": "python"
    }
  },
  "cells": [
    {
      "cell_type": "code",
      "metadata": {
        "id": "aQqfjZseJelB"
      },
      "source": [
        "params_grid = {'input_size': [20],\n",
        "              'hidden_units':[100],\n",
        "              'dropout': [True],\n",
        "              'learning_rate':[4e-5],\n",
        "              'n_ahead':[12],\n",
        "              'val_split': [0.2],\n",
        "              'epochs':[20],\n",
        "              'verbose':[False],\n",
        "              'plot':[False]}\n",
        "\n",
        "params = {'input_size': 20,\n",
        "          'hidden_units':100,\n",
        "          'dropout': True,\n",
        "          'learning_rate':4e-5,\n",
        "          'n_ahead':12,\n",
        "          'val_split': 0.2,\n",
        "          'epochs':20,\n",
        "          'verbose':False,\n",
        "          'plot':False}\n",
        "\n",
        "import numpy as np, pandas as pd, matplotlib.pyplot as plt, keras, itertools\n",
        "from sklearn.metrics import mean_squared_error\n",
        "from sklearn.preprocessing import MinMaxScaler\n",
        "from keras.models import Sequential\n",
        "from keras.layers import Dense, LSTM, Dropout"
      ],
      "execution_count": null,
      "outputs": []
    },
    {
      "cell_type": "code",
      "metadata": {
        "colab": {
          "base_uri": "https://localhost:8080/"
        },
        "id": "lc8_knE6JmJC",
        "outputId": "b906216c-5d6c-4467-e899-82e710fde9e6"
      },
      "source": [
        "# authorize drive to pull model\n",
        "from google.colab import drive\n",
        "drive.mount('/content/drive')\n",
        "\n"
      ],
      "execution_count": null,
      "outputs": [
        {
          "output_type": "stream",
          "text": [
            "Drive already mounted at /content/drive; to attempt to forcibly remount, call drive.mount(\"/content/drive\", force_remount=True).\n"
          ],
          "name": "stdout"
        }
      ]
    },
    {
      "cell_type": "code",
      "metadata": {
        "id": "bI3Yob-SJtUY"
      },
      "source": [
        "#Note all of this is linked to personal gmail account - because bigquery is there.\n",
        "import os\n",
        "os.chdir('/content/drive/MyDrive/Capstone_project')\n",
        "\n",
        "import pandas as pd\n",
        "Dataset = pd.read_csv('Test_Weekly_Activity_Score_RF.csv')\n",
        "\n",
        "repo_data=Dataset.loc[Dataset['repoID']==113564765]\n",
        "single_repo_series=repo_data.Normalised_Activity_Score\n",
        "Risk_Score=single_repo_series"
      ],
      "execution_count": null,
      "outputs": []
    },
    {
      "cell_type": "code",
      "metadata": {
        "id": "RhNro_TyKVhD"
      },
      "source": [
        "repo_list=list(Dataset['repoID'].unique())\n",
        "\n",
        "rows=[]\n",
        "for i in range(0, len(repo_list)):\n",
        "  repo_data=Dataset.loc[Dataset['repoID']==repo_list[i]]\n",
        "  if repo_data.shape[0]>20:\n",
        "    rows.append((repo_list[i]))\n",
        "\n",
        "remove_list=[156630873, 168234055, 163867485, 173968989, 169825932, 165114031, 121291048, 178027217, 194736160, 181737603, 194727787, 149379192, 194736246, 159751068, 193533462, 53032138, 169601732, 173919375, 170547737, 178105940, 196555066, 141831152, 172554606, 157298123, 159539290, 185833148,164036674, 164198539, 159058750, 183677088, 145325821]\n",
        "res = [i for i in rows if i not in remove_list]\n",
        "rows=res"
      ],
      "execution_count": null,
      "outputs": []
    },
    {
      "cell_type": "code",
      "metadata": {
        "colab": {
          "base_uri": "https://localhost:8080/"
        },
        "id": "hyVU8Dp3SG5q",
        "outputId": "31f46675-7de4-4162-ebd4-35043924f926"
      },
      "source": [
        "print(rows)"
      ],
      "execution_count": null,
      "outputs": [
        {
          "output_type": "stream",
          "text": [
            "[108110, 17165658, 2446718, 99919302, 206417, 45721011, 31006158, 39464018, 462292, 118030974, 21193524, 164026325, 151294653, 102083576, 108125, 832680, 81355383, 132600378, 206412, 32199982, 32848140, 19244865, 70746484, 93486496, 108050, 143965255, 4719160, 9735077, 37115105, 108051, 699689, 7437073, 206422, 309009, 23876346, 206402, 149178674, 143887688, 10223615, 71975377, 11151771, 153295119, 52028643, 19514152, 87100707, 41952293, 81920458, 33294317, 27557391, 45165994, 58072252, 58073483, 87100729, 206370, 143950, 63044524, 113041753, 35964690, 158448038, 16021499, 93444591, 131209056, 45896813, 9390430, 52027975, 131394823, 137439053, 116109319, 15741777, 146502453, 135523369, 83877385, 7567432, 3658431, 17443202, 136240779, 107435578, 100294206, 10860602, 75708591, 20675635, 15881868, 33679984, 93211371, 154606109, 131209340, 82691991, 74950506, 183648903, 32376872, 206478, 105323132, 61863697, 126176628, 38525117, 82371321, 149782046, 133959957, 64581179, 46900076, 33397227, 52050228, 37991233, 107435963, 7770260, 92971378, 96584339, 31976270, 71356594, 68686441, 404397, 108511089, 70037034, 98013452, 60309847, 138208400, 10860597, 53160128, 106789422, 10860607, 113678287, 161004, 107435933, 102083574, 107435477, 61801701, 113564038, 63669374, 95679812, 18627124, 13853693, 6898377, 107435631, 113564089, 60121077, 63879166, 122675902, 30724109, 206357, 107435691, 88242107, 107435948, 125097454, 55078765, 55437297, 26353925, 9759451, 113564280, 107435906, 113571428, 73428254, 113678093, 63399426, 20028272, 123161718, 113488245, 107433731, 65358491, 107433033, 132148763, 29979177, 31933589, 206635, 107433355, 107433968, 107432816, 92187408, 71358594, 113564765, 109810936, 11362691, 46776191, 63879003, 1514767, 60209452, 29979115, 87100755, 112034937, 47363193, 41820544, 107433375, 92714730, 107434610, 113677914, 107434396, 113678030, 154605982, 102083575, 107436041, 125097486, 24584820, 14149824, 91362946, 34020308, 111739948, 105204510, 113484173, 31976263, 11304845, 116926787, 113484230, 20248083, 22498765, 83632281, 14740847, 6898380, 16795933, 107436427, 6898383, 33884891, 50904245, 2211243, 138754790, 86057409, 41348335, 117599238, 109678056, 147531218, 144622232, 52588453, 99279793]\n"
          ],
          "name": "stdout"
        }
      ]
    },
    {
      "cell_type": "code",
      "metadata": {
        "colab": {
          "base_uri": "https://localhost:8080/"
        },
        "id": "CQ6OLvnmKwBT",
        "outputId": "8c073a59-bf85-4b44-dc90-2d64b1f7b780"
      },
      "source": [
        "model_, logs, best_predictions, y_test = GridSearch(Risk_Score,params_grid)"
      ],
      "execution_count": null,
      "outputs": [
        {
          "output_type": "stream",
          "text": [
            "Fitting 1/1 model\n",
            "Epoch 1/20\n",
            "50/50 [==============================] - 3s 23ms/step - loss: 0.0559 - val_loss: 0.0444\n",
            "Epoch 2/20\n",
            "50/50 [==============================] - 0s 6ms/step - loss: 0.0467 - val_loss: 0.0370\n",
            "Epoch 3/20\n",
            "50/50 [==============================] - 0s 6ms/step - loss: 0.0353 - val_loss: 0.0331\n",
            "Epoch 4/20\n",
            "50/50 [==============================] - 0s 7ms/step - loss: 0.0325 - val_loss: 0.0323\n",
            "Epoch 5/20\n",
            "50/50 [==============================] - 0s 6ms/step - loss: 0.0267 - val_loss: 0.0330\n",
            "Epoch 6/20\n",
            "50/50 [==============================] - 0s 7ms/step - loss: 0.0347 - val_loss: 0.0334\n",
            "Epoch 7/20\n",
            "50/50 [==============================] - 0s 7ms/step - loss: 0.0374 - val_loss: 0.0334\n",
            "Epoch 8/20\n",
            "50/50 [==============================] - 0s 6ms/step - loss: 0.0348 - val_loss: 0.0338\n",
            "Epoch 9/20\n",
            "50/50 [==============================] - 0s 6ms/step - loss: 0.0316 - val_loss: 0.0344\n",
            "Epoch 10/20\n",
            "50/50 [==============================] - 0s 6ms/step - loss: 0.0321 - val_loss: 0.0346\n",
            "Epoch 11/20\n",
            "50/50 [==============================] - 0s 6ms/step - loss: 0.0293 - val_loss: 0.0349\n",
            "Epoch 12/20\n",
            "50/50 [==============================] - 0s 6ms/step - loss: 0.0363 - val_loss: 0.0342\n",
            "Epoch 13/20\n",
            "50/50 [==============================] - 0s 7ms/step - loss: 0.0298 - val_loss: 0.0341\n",
            "Epoch 14/20\n",
            "50/50 [==============================] - 0s 7ms/step - loss: 0.0313 - val_loss: 0.0343\n",
            "Epoch 15/20\n",
            "50/50 [==============================] - 0s 6ms/step - loss: 0.0340 - val_loss: 0.0346\n",
            "Epoch 16/20\n",
            "50/50 [==============================] - 0s 7ms/step - loss: 0.0290 - val_loss: 0.0348\n",
            "Epoch 17/20\n",
            "50/50 [==============================] - 0s 6ms/step - loss: 0.0314 - val_loss: 0.0345\n",
            "Epoch 18/20\n",
            "50/50 [==============================] - 0s 7ms/step - loss: 0.0333 - val_loss: 0.0341\n",
            "Epoch 19/20\n",
            "50/50 [==============================] - 0s 7ms/step - loss: 0.0286 - val_loss: 0.0344\n",
            "Epoch 20/20\n",
            "50/50 [==============================] - 0s 7ms/step - loss: 0.0287 - val_loss: 0.0343\n"
          ],
          "name": "stdout"
        }
      ]
    },
    {
      "cell_type": "code",
      "metadata": {
        "colab": {
          "base_uri": "https://localhost:8080/",
          "height": 992
        },
        "id": "4I9x7Bp5KmgJ",
        "outputId": "9357047f-6f0b-4eb1-82a3-e06c17e60217"
      },
      "source": [
        "repo_data=Dataset.loc[Dataset['repoID']==11362691]\n",
        "single_repo_series=repo_data.Normalised_Activity_Score\n",
        "Risk_Score=single_repo_series\n",
        "\n",
        "new_model_, mse, history, predictions, y_test = Test_FitEvaluate(Risk_Score, params, model_)\n",
        "\n",
        "#plotting predictions for next 12 weeks\n",
        "\n",
        "#Final_Score=inverse_transform(best_predictions, scaler)\n",
        "Final_Score=predictions.reshape(12)\n",
        "Final_Score[Final_Score<0] = 0\n",
        "\n",
        "# data to be plotted \n",
        "x = np.arange(start=1, stop=13, step=1)\n",
        "\n",
        "#print(i)\n",
        "#print(rows[i])\n",
        "fig = plt.figure()\n",
        "fig.patch.set_facecolor('white') \n",
        "plt.title(\"Activity Score for the next 12 weeks\")  \n",
        "plt.xlabel(\"Date\")  \n",
        "plt.ylabel(\"Activity-Score\")\n",
        "plt.plot(x, Final_Score, color =\"green\")  \n",
        "plt.show()"
      ],
      "execution_count": null,
      "outputs": [
        {
          "output_type": "stream",
          "text": [
            "Epoch 1/20\n",
            "196/196 [==============================] - 3s 8ms/step - loss: 0.0353 - val_loss: 0.0238\n",
            "Epoch 2/20\n",
            "196/196 [==============================] - 1s 6ms/step - loss: 0.0331 - val_loss: 0.0236\n",
            "Epoch 3/20\n",
            "196/196 [==============================] - 1s 7ms/step - loss: 0.0337 - val_loss: 0.0234\n",
            "Epoch 4/20\n",
            "196/196 [==============================] - 1s 7ms/step - loss: 0.0325 - val_loss: 0.0235\n",
            "Epoch 5/20\n",
            "196/196 [==============================] - 1s 6ms/step - loss: 0.0336 - val_loss: 0.0234\n",
            "Epoch 6/20\n",
            "196/196 [==============================] - 1s 6ms/step - loss: 0.0342 - val_loss: 0.0233\n",
            "Epoch 7/20\n",
            "196/196 [==============================] - 1s 7ms/step - loss: 0.0341 - val_loss: 0.0233\n",
            "Epoch 8/20\n",
            "196/196 [==============================] - 1s 7ms/step - loss: 0.0334 - val_loss: 0.0234\n",
            "Epoch 9/20\n",
            "196/196 [==============================] - 1s 7ms/step - loss: 0.0330 - val_loss: 0.0234\n",
            "Epoch 10/20\n",
            "196/196 [==============================] - 1s 7ms/step - loss: 0.0333 - val_loss: 0.0234\n",
            "Epoch 11/20\n",
            "196/196 [==============================] - 1s 8ms/step - loss: 0.0343 - val_loss: 0.0233\n",
            "Epoch 12/20\n",
            "196/196 [==============================] - 1s 7ms/step - loss: 0.0338 - val_loss: 0.0234\n",
            "Epoch 13/20\n",
            "196/196 [==============================] - 1s 6ms/step - loss: 0.0328 - val_loss: 0.0234\n",
            "Epoch 14/20\n",
            "196/196 [==============================] - 1s 7ms/step - loss: 0.0330 - val_loss: 0.0235\n",
            "Epoch 15/20\n",
            "196/196 [==============================] - 1s 7ms/step - loss: 0.0332 - val_loss: 0.0233\n",
            "Epoch 16/20\n",
            "196/196 [==============================] - 1s 6ms/step - loss: 0.0328 - val_loss: 0.0235\n",
            "Epoch 17/20\n",
            "196/196 [==============================] - 1s 7ms/step - loss: 0.0334 - val_loss: 0.0234\n",
            "Epoch 18/20\n",
            "196/196 [==============================] - 1s 7ms/step - loss: 0.0330 - val_loss: 0.0235\n",
            "Epoch 19/20\n",
            "196/196 [==============================] - 1s 7ms/step - loss: 0.0327 - val_loss: 0.0234\n",
            "Epoch 20/20\n",
            "196/196 [==============================] - 1s 7ms/step - loss: 0.0338 - val_loss: 0.0234\n",
            "(1, 20, 1)\n"
          ],
          "name": "stdout"
        },
        {
          "output_type": "display_data",
          "data": {
            "image/png": "[encoded data removed]",
            "text/plain": [
              "<Figure size 432x288 with 1 Axes>"
            ]
          },
          "metadata": {
            "tags": []
          }
        }
      ]
    },
    {
      "cell_type": "code",
      "metadata": {
        "colab": {
          "base_uri": "https://localhost:8080/"
        },
        "id": "Pdq21gEHPqSy",
        "outputId": "23da033e-47a5-47b7-f1b9-870a46d44dde"
      },
      "source": [
        "Final_Score"
      ],
      "execution_count": null,
      "outputs": [
        {
          "output_type": "execute_result",
          "data": {
            "text/plain": [
              "array([0.08817505, 0.08746488, 0.08774897, 0.08823892, 0.08895537,\n",
              "       0.08961844, 0.09016524, 0.09059069, 0.09090973, 0.09090021,\n",
              "       0.09106717, 0.0909531 ])"
            ]
          },
          "metadata": {
            "tags": []
          },
          "execution_count": 11
        }
      ]
    },
    {
      "cell_type": "code",
      "metadata": {
        "id": "1FLzQT5wOjLh"
      },
      "source": [
        "new_model_.save('Spring_2021_Model3.h5')"
      ],
      "execution_count": null,
      "outputs": []
    },
    {
      "cell_type": "code",
      "metadata": {
        "id": "YrFNsjzOOv42"
      },
      "source": [
        "repo_data=Dataset.loc[Dataset['repoID']==11362691]\n",
        "single_repo_series=repo_data.Normalised_Activity_Score\n",
        "Risk_Score=single_repo_series\n",
        "X = Risk_Score[-20:].values\n",
        "series = np.array(X)\n",
        "#print(series.shape)\n",
        "series=np.reshape(series,(1,series.shape[0],1))\n",
        "#print(series.shape)\n",
        "n_ahead = 12"
      ],
      "execution_count": null,
      "outputs": []
    },
    {
      "cell_type": "code",
      "metadata": {
        "id": "d0MeYHBJXC1x"
      },
      "source": [
        "predictions = np.zeros(12)\n",
        "predictions[0] = new_model_.predict(series,batch_size = 1)\n",
        "    \n",
        "if n_ahead > 1:\n",
        "    for i in range(1,n_ahead):\n",
        "        x_new = np.append(series[0][1:],predictions[i-1])\n",
        "        series = x_new.reshape(1,x_new.shape[0],1)\n",
        "        predictions[i] = new_model_.predict(series,batch_size = 1)"
      ],
      "execution_count": null,
      "outputs": []
    },
    {
      "cell_type": "code",
      "metadata": {
        "colab": {
          "base_uri": "https://localhost:8080/"
        },
        "id": "XdsIG2yeb6ra",
        "outputId": "c28966d4-460c-41a0-c7f2-b8b4c9ebe663"
      },
      "source": [
        "predictions"
      ],
      "execution_count": null,
      "outputs": [
        {
          "output_type": "execute_result",
          "data": {
            "text/plain": [
              "array([0.09102078, 0.0938859 , 0.09462053, 0.09429513, 0.09357248,\n",
              "       0.09274627, 0.09203491, 0.09145586, 0.09101695, 0.09070092,\n",
              "       0.09048326, 0.09033927])"
            ]
          },
          "metadata": {
            "tags": []
          },
          "execution_count": 30
        }
      ]
    },
    {
      "cell_type": "code",
      "metadata": {
        "colab": {
          "base_uri": "https://localhost:8080/"
        },
        "id": "4pBsh2Qhil_n",
        "outputId": "3081d151-1166-40e2-9294-abb182e96210"
      },
      "source": [
        "pip install dash"
      ],
      "execution_count": null,
      "outputs": [
        {
          "output_type": "stream",
          "text": [
            "Collecting dash\n",
            "\u001b[?25l  Downloading https://files.pythonhosted.org/packages/d4/50/e7c2830168db186f84b7de2988543e974433a6cdb0a0b23d51c781e2b2ab/dash-1.20.0.tar.gz (77kB)\n",
            "\r\u001b[K     |████▏                           | 10kB 17.1MB/s eta 0:00:01\r\u001b[K     |████████▍                       | 20kB 9.7MB/s eta 0:00:01\r\u001b[K     |████████████▋                   | 30kB 7.7MB/s eta 0:00:01\r\u001b[K     |████████████████▉               | 40kB 6.7MB/s eta 0:00:01\r\u001b[K     |█████████████████████           | 51kB 4.1MB/s eta 0:00:01\r\u001b[K     |█████████████████████████▎      | 61kB 4.5MB/s eta 0:00:01\r\u001b[K     |█████████████████████████████▌  | 71kB 5.0MB/s eta 0:00:01\r\u001b[K     |████████████████████████████████| 81kB 3.5MB/s \n",
            "\u001b[?25hRequirement already satisfied: Flask>=1.0.4 in /usr/local/lib/python3.7/dist-packages (from dash) (1.1.2)\n",
            "Collecting flask-compress\n",
            "  Downloading https://files.pythonhosted.org/packages/c6/d5/69b13600230d24310b98a52da561113fc01a5c17acf77152761eef3e50f1/Flask_Compress-1.9.0-py3-none-any.whl\n",
            "Requirement already satisfied: plotly in /usr/local/lib/python3.7/dist-packages (from dash) (4.4.1)\n",
            "Collecting dash_renderer==1.9.1\n",
            "\u001b[?25l  Downloading https://files.pythonhosted.org/packages/5f/d3/d661a68b4ce71498d5c0c79617bce3d5fc884d4448c698f77c2247cd1b46/dash_renderer-1.9.1.tar.gz (1.0MB)\n",
            "\u001b[K     |████████████████████████████████| 1.0MB 6.7MB/s \n",
            "\u001b[?25hCollecting dash-core-components==1.16.0\n",
            "\u001b[?25l  Downloading https://files.pythonhosted.org/packages/f4/79/434e14d77dbf82b27f98df077936a424de254059d47152b0445b7116e97e/dash_core_components-1.16.0.tar.gz (3.5MB)\n",
            "\u001b[K     |████████████████████████████████| 3.5MB 12.5MB/s \n",
            "\u001b[?25hCollecting dash-html-components==1.1.3\n",
            "\u001b[?25l  Downloading https://files.pythonhosted.org/packages/8f/ca/7eeca4cae4e15cc6f7d0bc41a46368dd3fcdddc72aaa5bac61a8b92d541c/dash_html_components-1.1.3.tar.gz (82kB)\n",
            "\u001b[K     |████████████████████████████████| 92kB 9.1MB/s \n",
            "\u001b[?25hCollecting dash-table==4.11.3\n",
            "\u001b[?25l  Downloading https://files.pythonhosted.org/packages/97/f7/f4969a926f20a55d3e5970d01b85ff9ad510dba32de189e72dd8f4992740/dash_table-4.11.3.tar.gz (1.8MB)\n",
            "\u001b[K     |████████████████████████████████| 1.8MB 40.2MB/s \n",
            "\u001b[?25hRequirement already satisfied: future in /usr/local/lib/python3.7/dist-packages (from dash) (0.16.0)\n",
            "Requirement already satisfied: Werkzeug>=0.15 in /usr/local/lib/python3.7/dist-packages (from Flask>=1.0.4->dash) (1.0.1)\n",
            "Requirement already satisfied: click>=5.1 in /usr/local/lib/python3.7/dist-packages (from Flask>=1.0.4->dash) (7.1.2)\n",
            "Requirement already satisfied: Jinja2>=2.10.1 in /usr/local/lib/python3.7/dist-packages (from Flask>=1.0.4->dash) (2.11.3)\n",
            "Requirement already satisfied: itsdangerous>=0.24 in /usr/local/lib/python3.7/dist-packages (from Flask>=1.0.4->dash) (1.1.0)\n",
            "Collecting brotli\n",
            "\u001b[?25l  Downloading https://files.pythonhosted.org/packages/15/ea/5bd575511b37bbd1c794606a0a621e6feff8e96b7dd007a86a5d218b2d94/Brotli-1.0.9-cp37-cp37m-manylinux1_x86_64.whl (357kB)\n",
            "\u001b[K     |████████████████████████████████| 358kB 37.3MB/s \n",
            "\u001b[?25hRequirement already satisfied: six in /usr/local/lib/python3.7/dist-packages (from plotly->dash) (1.15.0)\n",
            "Requirement already satisfied: retrying>=1.3.3 in /usr/local/lib/python3.7/dist-packages (from plotly->dash) (1.3.3)\n",
            "Requirement already satisfied: MarkupSafe>=0.23 in /usr/local/lib/python3.7/dist-packages (from Jinja2>=2.10.1->Flask>=1.0.4->dash) (1.1.1)\n",
            "Building wheels for collected packages: dash, dash-renderer, dash-core-components, dash-html-components, dash-table\n",
            "  Building wheel for dash (setup.py) ... \u001b[?25l\u001b[?25hdone\n",
            "  Created wheel for dash: filename=dash-1.20.0-cp37-none-any.whl size=85834 sha256=ae001b7b03951813405b98dddc8674407b064cbc7be708ee83c30e670b79d0b8\n",
            "  Stored in directory: /root/.cache/pip/wheels/e6/33/41/ce361d0d1da277d2350f815b10f2ab1e331592d93ef2b07e29\n",
            "  Building wheel for dash-renderer (setup.py) ... \u001b[?25l\u001b[?25hdone\n",
            "  Created wheel for dash-renderer: filename=dash_renderer-1.9.1-cp37-none-any.whl size=1014875 sha256=00953f2911bcf2086747df5cb32e6b22bfca73f99ad899d1f747a3c3f142939c\n",
            "  Stored in directory: /root/.cache/pip/wheels/03/a9/c5/dd5815c601b0ede164c223ffd7bafebde716ca57de06ef8aec\n",
            "  Building wheel for dash-core-components (setup.py) ... \u001b[?25l\u001b[?25hdone\n",
            "  Created wheel for dash-core-components: filename=dash_core_components-1.16.0-cp37-none-any.whl size=3540993 sha256=7f6291b8f2369905ba3c195d389959d655a5ec3eed64ccd1c821fdcbb0ae5ead\n",
            "  Stored in directory: /root/.cache/pip/wheels/86/1e/8c/e87ebba30b73c20dcd641224274febc983af88ed0fd7712a07\n",
            "  Building wheel for dash-html-components (setup.py) ... \u001b[?25l\u001b[?25hdone\n",
            "  Created wheel for dash-html-components: filename=dash_html_components-1.1.3-cp37-none-any.whl size=319471 sha256=a550416130a4af0aa167e36383bcfd9e6ead6cc0d1804d31e04fc82e91629d6e\n",
            "  Stored in directory: /root/.cache/pip/wheels/07/f9/6c/f9b73a6ae1b7f347a92dc240293cebc267b370ba2a80added2\n",
            "  Building wheel for dash-table (setup.py) ... \u001b[?25l\u001b[?25hdone\n",
            "  Created wheel for dash-table: filename=dash_table-4.11.3-cp37-none-any.whl size=1827619 sha256=b4be0f7051932a01f24bf20c47569dafecea413b291f1c886a86163a645643a3\n",
            "  Stored in directory: /root/.cache/pip/wheels/51/9b/89/374be1bc250e28a15edbd657cf364f163e392ba5257bfd0e87\n",
            "Successfully built dash dash-renderer dash-core-components dash-html-components dash-table\n",
            "Installing collected packages: brotli, flask-compress, dash-renderer, dash-core-components, dash-html-components, dash-table, dash\n",
            "Successfully installed brotli-1.0.9 dash-1.20.0 dash-core-components-1.16.0 dash-html-components-1.1.3 dash-renderer-1.9.1 dash-table-4.11.3 flask-compress-1.9.0\n"
          ],
          "name": "stdout"
        }
      ]
    },
    {
      "cell_type": "code",
      "metadata": {
        "id": "tLpxcOLeijlx"
      },
      "source": [
        "import dash\n",
        "#import dash_core_components as dcc\n",
        "#import dash_html_components as html\n",
        "import pandas as pd\n",
        "import plotly.graph_objs as go\n",
        "from dash.dependencies import Input, Output\n",
        "from keras.models import load_model\n",
        "from sklearn.preprocessing import MinMaxScaler\n",
        "import numpy as np\n",
        "import numpy as np, pandas as pd, matplotlib.pyplot as plt, keras, itertools\n",
        "from sklearn.metrics import mean_squared_error\n",
        "from sklearn.preprocessing import MinMaxScaler\n",
        "from keras.models import Sequential\n",
        "from keras.layers import Dense, LSTM, Dropout"
      ],
      "execution_count": null,
      "outputs": []
    },
    {
      "cell_type": "code",
      "metadata": {
        "id": "ciMjFoDj6UdD"
      },
      "source": [
        "df = Dataset[[\"repoID\", \"Normalised_Activity_Score\"]]"
      ],
      "execution_count": null,
      "outputs": []
    },
    {
      "cell_type": "code",
      "metadata": {
        "colab": {
          "base_uri": "https://localhost:8080/",
          "height": 419
        },
        "id": "V3YuwU2u_N6z",
        "outputId": "061c0620-89f1-4e96-c016-eafa00f8a7a9"
      },
      "source": [
        "df"
      ],
      "execution_count": null,
      "outputs": [
        {
          "output_type": "execute_result",
          "data": {
            "text/html": [
              "<div>\n",
              "<style scoped>\n",
              "    .dataframe tbody tr th:only-of-type {\n",
              "        vertical-align: middle;\n",
              "    }\n",
              "\n",
              "    .dataframe tbody tr th {\n",
              "        vertical-align: top;\n",
              "    }\n",
              "\n",
              "    .dataframe thead th {\n",
              "        text-align: right;\n",
              "    }\n",
              "</style>\n",
              "<table border=\"1\" class=\"dataframe\">\n",
              "  <thead>\n",
              "    <tr style=\"text-align: right;\">\n",
              "      <th></th>\n",
              "      <th>repoID</th>\n",
              "      <th>Normalised_Activity_Score</th>\n",
              "    </tr>\n",
              "  </thead>\n",
              "  <tbody>\n",
              "    <tr>\n",
              "      <th>0</th>\n",
              "      <td>108110</td>\n",
              "      <td>0.056643</td>\n",
              "    </tr>\n",
              "    <tr>\n",
              "      <th>1</th>\n",
              "      <td>108110</td>\n",
              "      <td>0.027175</td>\n",
              "    </tr>\n",
              "    <tr>\n",
              "      <th>2</th>\n",
              "      <td>108110</td>\n",
              "      <td>0.039558</td>\n",
              "    </tr>\n",
              "    <tr>\n",
              "      <th>3</th>\n",
              "      <td>108110</td>\n",
              "      <td>0.050366</td>\n",
              "    </tr>\n",
              "    <tr>\n",
              "      <th>4</th>\n",
              "      <td>108110</td>\n",
              "      <td>0.045777</td>\n",
              "    </tr>\n",
              "    <tr>\n",
              "      <th>...</th>\n",
              "      <td>...</td>\n",
              "      <td>...</td>\n",
              "    </tr>\n",
              "    <tr>\n",
              "      <th>46208</th>\n",
              "      <td>145325821</td>\n",
              "      <td>0.000000</td>\n",
              "    </tr>\n",
              "    <tr>\n",
              "      <th>46209</th>\n",
              "      <td>145325821</td>\n",
              "      <td>0.000000</td>\n",
              "    </tr>\n",
              "    <tr>\n",
              "      <th>46210</th>\n",
              "      <td>145325821</td>\n",
              "      <td>0.000000</td>\n",
              "    </tr>\n",
              "    <tr>\n",
              "      <th>46211</th>\n",
              "      <td>145325821</td>\n",
              "      <td>0.155886</td>\n",
              "    </tr>\n",
              "    <tr>\n",
              "      <th>46212</th>\n",
              "      <td>145325821</td>\n",
              "      <td>0.077943</td>\n",
              "    </tr>\n",
              "  </tbody>\n",
              "</table>\n",
              "<p>46213 rows × 2 columns</p>\n",
              "</div>"
            ],
            "text/plain": [
              "          repoID  Normalised_Activity_Score\n",
              "0         108110                   0.056643\n",
              "1         108110                   0.027175\n",
              "2         108110                   0.039558\n",
              "3         108110                   0.050366\n",
              "4         108110                   0.045777\n",
              "...          ...                        ...\n",
              "46208  145325821                   0.000000\n",
              "46209  145325821                   0.000000\n",
              "46210  145325821                   0.000000\n",
              "46211  145325821                   0.155886\n",
              "46212  145325821                   0.077943\n",
              "\n",
              "[46213 rows x 2 columns]"
            ]
          },
          "metadata": {
            "tags": []
          },
          "execution_count": 56
        }
      ]
    },
    {
      "cell_type": "code",
      "metadata": {
        "id": "MbjUnPRa8abD"
      },
      "source": [
        "repo_data=df[df['repoID']==11362691]"
      ],
      "execution_count": null,
      "outputs": []
    },
    {
      "cell_type": "code",
      "metadata": {
        "colab": {
          "base_uri": "https://localhost:8080/",
          "height": 232
        },
        "id": "YjJBgQZvejym",
        "outputId": "ed6d5561-ea45-4a97-8208-77180cb71de6"
      },
      "source": [
        "Final_Score=predictions.reshape(12)\n",
        "Final_Score[Final_Score<0] = 0\n",
        "\n",
        "        # data to be plotted \n",
        "x = np.arange(start=1, stop=13, step=1)\n",
        "\n",
        "        #print(i)\n",
        "        #print(rows[i])\n",
        "fig = plt.figure()\n",
        "fig.patch.set_facecolor('white') \n",
        "plt.title(\"Activity Score for the next 12 weeks\")  \n",
        "plt.xlabel(\"Date\")  \n",
        "plt.ylabel(\"Activity-Score\")\n",
        "plt.plot(x, Final_Score, color =\"green\")\n",
        "\n",
        "first = go.scatter(x, Final_Score)\n",
        "data = [first]\n",
        "\n",
        "fig = {'data': data,\n",
        "              'layout': {\n",
        "                  'title': str(symbol) + \" Health Forecast\",\n",
        "                  'plot_bgcolor': colors['background'],\n",
        "                  'paper_bgcolor': colors['background'],\n",
        "                  'font': {\n",
        "                      'color': colors['text'],\n",
        "                      'size': 18\n",
        "                  }}\n",
        "              }\n",
        "fig"
      ],
      "execution_count": null,
      "outputs": [
        {
          "output_type": "error",
          "ename": "TypeError",
          "evalue": "ignored",
          "traceback": [
            "\u001b[0;31m---------------------------------------------------------------------------\u001b[0m",
            "\u001b[0;31mTypeError\u001b[0m                                 Traceback (most recent call last)",
            "\u001b[0;32m<ipython-input-40-971725bc240c>\u001b[0m in \u001b[0;36m<module>\u001b[0;34m()\u001b[0m\n\u001b[1;32m     14\u001b[0m \u001b[0;31m#plt.plot(x, Final_Score, color =\"green\")\u001b[0m\u001b[0;34m\u001b[0m\u001b[0;34m\u001b[0m\u001b[0;34m\u001b[0m\u001b[0m\n\u001b[1;32m     15\u001b[0m \u001b[0;34m\u001b[0m\u001b[0m\n\u001b[0;32m---> 16\u001b[0;31m \u001b[0mfirst\u001b[0m \u001b[0;34m=\u001b[0m \u001b[0mgo\u001b[0m\u001b[0;34m.\u001b[0m\u001b[0mscatter\u001b[0m\u001b[0;34m(\u001b[0m\u001b[0mx\u001b[0m\u001b[0;34m,\u001b[0m \u001b[0mFinal_Score\u001b[0m\u001b[0;34m)\u001b[0m\u001b[0;34m\u001b[0m\u001b[0;34m\u001b[0m\u001b[0m\n\u001b[0m\u001b[1;32m     17\u001b[0m \u001b[0mdata\u001b[0m \u001b[0;34m=\u001b[0m \u001b[0;34m[\u001b[0m\u001b[0mfirst\u001b[0m\u001b[0;34m]\u001b[0m\u001b[0;34m\u001b[0m\u001b[0;34m\u001b[0m\u001b[0m\n\u001b[1;32m     18\u001b[0m \u001b[0;34m\u001b[0m\u001b[0m\n",
            "\u001b[0;31mTypeError\u001b[0m: 'module' object is not callable"
          ]
        }
      ]
    },
    {
      "cell_type": "code",
      "metadata": {
        "id": "HUg03XmoO_Z_"
      },
      "source": [
        "predict_1 = new_model_.predict(X)"
      ],
      "execution_count": null,
      "outputs": []
    },
    {
      "cell_type": "code",
      "metadata": {
        "id": "fVeQuipeKYcS"
      },
      "source": [
        "def GridSearch(series, params_grid):\n",
        "    \"\"\"\n",
        "    Runs a grid search over specified parameter ranges\n",
        "    Args:\n",
        "        series: the time series of interest\n",
        "        params_grid: a dictionary specifying parameters\n",
        "                    {input_size, hidden_units, dropout,\n",
        "                    learning_rate, n_ahead, val_split,\n",
        "                    epochs, verbose, plot} and their\n",
        "                    possible value ranges\n",
        "    Returns:\n",
        "        model: the model with the lowest MSE\n",
        "        logs: logs of all combinations\n",
        "\n",
        "    \"\"\"\n",
        "    param_names = list(params_grid.keys())\n",
        "    param_values = list(params_grid.values()) \n",
        "    combinations = list(itertools.product(*param_values))\n",
        "    \n",
        "    logs = pd.DataFrame(combinations,columns=param_names)\n",
        "    \n",
        "    mse_prev = 50\n",
        "    for index, comb in enumerate(combinations):\n",
        "        print('Fitting {}/{} model'.format(index+1,len(combinations)))\n",
        "        params = dict(zip(param_names,comb))\n",
        "        model, mse, history, predn, y_test = FitEvaluate(series,params) #Fit eval\n",
        "        train_loss = history.history['loss']\n",
        "        val_loss = history.history['val_loss']\n",
        "                \n",
        "        if mse < mse_prev:\n",
        "            mse_prev = mse\n",
        "            best_model = model              #best Model\n",
        "            best_predictions = predn\n",
        "            yt = y_test\n",
        "        \n",
        "        logs.at[index,'mse'] = mse\n",
        "        logs.at[index,'mean_training_loss'] = np.mean(train_loss)\n",
        "        logs.at[index,'std_training_loss'] = np.std(train_loss)\n",
        "        logs.at[index,'mean_val_loss'] = np.mean(val_loss)\n",
        "        logs.at[index,'std_val_loss'] = np.std(val_loss)\n",
        "    logs.to_csv('results.csv',index=False)\n",
        "    # view_predictions(series,best_predictions,y_test,'Actual vs Forecast')\n",
        "    return best_model, logs, best_predictions, yt\n",
        "\n",
        "def FitEvaluate(time_series, params):\n",
        "    \"\"\"\n",
        "    Calls the pipeline to fit an LSTM model to the\n",
        "    given time series\n",
        "\n",
        "    Args:\n",
        "        time_series: the time series of interest\n",
        "        params: a dictionary specifying parameters\n",
        "                {input_size, hidden_units, dropout,\n",
        "                learning_rate, n_ahead, val_split,\n",
        "                epochs, verbose, plot}\n",
        "    Returns:\n",
        "        model: keras sequential model\n",
        "        mse: mean squared error of the prediction\n",
        "        history: training and validation loss history\n",
        "\n",
        "    \"\"\"\n",
        "    for k in params.keys():\n",
        "        globals()[k] = params[k]\n",
        "        \n",
        "    scaled_series, scaler = preprocessing(time_series) \n",
        "    series, y_test, n_test = getSeries(scaled_series,0.8)\n",
        "    X_train,y_train,X_test = getInputOutput(series,input_size)\n",
        "    \n",
        "    # show only n_ahead number of actual values\n",
        "    y_test = y_test[np.arange(n_ahead)]\n",
        "\n",
        "    new_model, predictions, history = FitForecast(X_train,y_train,X_test,n_ahead,\n",
        "                                        input_size,hidden_units,dropout, val_split,\n",
        "                                        learning_rate,epochs,trained_model=None)\n",
        "    \n",
        "    # rescaling\n",
        "    series = inverse_transform(series, scaler)\n",
        "    y_test = inverse_transform(y_test, scaler)\n",
        "    predictions = inverse_transform(predictions, scaler)\n",
        "\n",
        "    mse = mean_squared_error(y_true=y_test,y_pred=predictions)\n",
        "    \n",
        "    #if verbose:\n",
        "     # print('\\n')\n",
        "      #print('======== Prediction Evaluation =========')\n",
        "      #print('MSE is {}'.format(mse))\n",
        "        \n",
        "    #if plot:\n",
        "     # ViewLoss(history)\n",
        "      #view_predictions(series,predictions,y_test,'Actual vs Forecast')\n",
        "    return new_model, mse, history, predictions, y_test\n",
        "\n",
        "\n",
        "def preprocessing(series):\n",
        "    \"\"\"\n",
        "    MinMax Scaling of the raw time series\n",
        "    Args:\n",
        "        series: the raw time series\n",
        "    Returns:\n",
        "        scaled_series and scaler object\n",
        "    \"\"\"\n",
        "    series = np.array(series)\n",
        "    scaler = MinMaxScaler(feature_range=(0, 1))\n",
        "    scaled = scaler.fit_transform(series.reshape(-1, 1))\n",
        "    scaled_series = scaled.reshape((len(series),))\n",
        "    return (\n",
        "     scaled_series, scaler)\n",
        "\n",
        "\n",
        "def getSeries(data, p):\n",
        "    \"\"\"\n",
        "    Splits a given time series proportionally\n",
        "    for training and testing purposes\n",
        "\n",
        "    Args:\n",
        "        data: numpy array or pandas series\n",
        "              containing the time series.\n",
        "        p: float value that defines the\n",
        "           proportion of the series used\n",
        "           for training.\n",
        "    Returns:\n",
        "        series: time series for training\n",
        "        y_test: time series for testing\n",
        "        n_test: number of timesteps\n",
        "                in the test series\n",
        "\n",
        "    \"\"\"\n",
        "    n = data.shape[0]\n",
        "    n_train = int(n * p)\n",
        "    n_test = n - n_train\n",
        "    x = np.arange(n)\n",
        "    index_train = x[:n_train]\n",
        "    index_test = x[n_train:]\n",
        "    series = data[index_train]\n",
        "    y_test = data[index_test]\n",
        "    return (series, y_test, n_test)\n",
        "\n",
        "\n",
        "\n",
        "def getInputOutput(series, input_size):\n",
        "    \"\"\"\n",
        "    Transforms the time series into desired\n",
        "    shape to be able to pass to the network\n",
        "\n",
        "    Args:\n",
        "        series: the time series.\n",
        "        input_size: int that defines the length\n",
        "                    of the input sequence to be\n",
        "                    fed to the network\n",
        "    Returns:\n",
        "        X_train: input dataset\n",
        "        y_train: output values\n",
        "        X_test: the last available sequence\n",
        "\n",
        "    \"\"\"\n",
        "    series = np.array(series)\n",
        "    xlen = len(series)\n",
        "    xrows = xlen - input_size\n",
        "    X_train, y_train = [], []\n",
        "    for i in range(xrows):\n",
        "        j = i + input_size\n",
        "        a = series[i:j, np.newaxis]\n",
        "        X_train.append(a)\n",
        "        y_train.append(series[j])\n",
        "\n",
        "    X_train, y_train = np.array(X_train), np.array(y_train)\n",
        "    X_test = series[xrows:].reshape(1, input_size, 1)\n",
        "    return (\n",
        "     X_train, y_train, X_test)\n",
        "    \n",
        "\n",
        "\n",
        "def FitForecast(X_train, y_train, X_test, n_ahead, input_size, hidden_units, dropout, val_split, learning_rate, epochs, trained_model):\n",
        "    \"\"\"\n",
        "    Fits a model and returns the predicted values.\n",
        "    Optionally weights from another network can be passed\n",
        "\n",
        "    Args:\n",
        "        X_train: input dataset for training\n",
        "        y_train: output dataset for training\n",
        "        X_test: the last available sequence\n",
        "        n_ahead: number of predictions to make\n",
        "        time_series: the time series of interest\n",
        "        input_size: int that defines the length\n",
        "                    of the input sequence to be\n",
        "                    fed to the network\n",
        "        hidden_units: int/list specifying the number\n",
        "                      of hidden units in the hidden\n",
        "                      layer/layers\n",
        "        dropout: boolean specifing whether to add dropout\n",
        "                 with 0.5 rate per layer\n",
        "        learning_rate: learning rate of the Adam\n",
        "                       optimization algorithm\n",
        "        epochs: int that defines the number of\n",
        "                training phases through the\n",
        "                training dataset\n",
        "        trained_model: already trained keras sequential\n",
        "                       model\n",
        "\n",
        "    Returns:\n",
        "        model: keras sequential model\n",
        "        predictions: numpy array containing the predicted values\n",
        "        history: training and validation loss history\n",
        "\n",
        "    \"\"\"\n",
        "    model = build_LSTM(input_size,hidden_units,dropout, learning_rate)\n",
        "    \n",
        "    if trained_model is not None:\n",
        "        model.set_weights(weights = trained_model.get_weights())        \n",
        "    \n",
        "    \n",
        "    history = model.fit(x=X_train, y=y_train, \n",
        "                batch_size=1, epochs=epochs, \n",
        "                verbose=1, validation_split=val_split,\n",
        "                shuffle=False)\n",
        "\n",
        "    predictions = predict_ahead(model,X_test,n_ahead)\n",
        "    return model, predictions, history\n",
        "\n",
        "\n",
        "\n",
        "def build_LSTM(input_size, hidden_units, dropout, learning_rate):\n",
        "    \"\"\"\n",
        "    Builds the Network with LSTM hidden layers\n",
        "\n",
        "    Args:\n",
        "        input_size: int that defines the length\n",
        "                    of the input sequence to be\n",
        "                    fed to the network\n",
        "        hidden_units: int/list specifying the number\n",
        "                      of hidden units in the hidden\n",
        "                      layer/layers\n",
        "        dropout: boolean specifing whether to add dropout\n",
        "                 with 0.5 rate per layer\n",
        "        learning_rate: learning rate of the Adam\n",
        "                       optimization algorithm\n",
        "    Returns:\n",
        "        model: keras sequential model\n",
        "\n",
        "    \"\"\"\n",
        "    h = hidden_units\n",
        "    \n",
        "\n",
        "    model = Sequential()\n",
        "    \n",
        "    if isinstance(h,list):\n",
        "    \n",
        "        model.add(LSTM(h[0],\n",
        "                   batch_input_shape=(1,input_size, 1), \n",
        "                   return_sequences=True, \n",
        "                   stateful=True))\n",
        "                  \n",
        "        if dropout:\n",
        "            model.add(Dropout(rate=0.5))\n",
        "\n",
        "        if len(h) > 2:\n",
        "            #removing 1st and last units\n",
        "            for index, units in enumerate(h[1:-1]):  \n",
        "                model.add(LSTM(units, \n",
        "                               batch_input_shape=(1,h[index], 1), \n",
        "                               return_sequences=True, \n",
        "                               stateful=True)) \n",
        "                if dropout:\n",
        "                    model.add(Dropout(rate=0.5))\n",
        "\n",
        "        model.add(LSTM(h[-1], \n",
        "                       batch_input_shape=(1,h[-2], 1), \n",
        "                       return_sequences=False, \n",
        "                       stateful=True))\n",
        "        if dropout:\n",
        "            model.add(Dropout(rate=0.5))\n",
        "    else:\n",
        "        model.add(LSTM(h, \n",
        "                   batch_input_shape=(1,input_size, 1),\n",
        "                   return_sequences=False, \n",
        "                   stateful=True)) \n",
        "        if dropout:\n",
        "            model.add(Dropout(rate=0.5))\n",
        "        \n",
        "    \n",
        "    model.add(Dense(1))\n",
        "    adam = keras.optimizers.Adam(lr=learning_rate)\n",
        "    model.compile(loss='mse', optimizer=adam)\n",
        "    return model\n",
        "\n",
        "\n",
        "\n",
        "def predict_ahead(model, X_test, n_ahead):\n",
        "    \"\"\"\n",
        "    Makes predictions based on the last available sequence\n",
        "\n",
        "    Args:\n",
        "        model: keras sequential model\n",
        "        X_test: the last available sequence\n",
        "        n_ahead: number of predictions to make\n",
        "\n",
        "    Returns:\n",
        "        predictions: numpy array containing the predicted values\n",
        "\n",
        "    \"\"\"\n",
        "    predictions = np.zeros(n_ahead)\n",
        "    predictions[0] = model.predict(X_test,batch_size = 1)\n",
        "    print(X_test.shape)\n",
        "    if n_ahead > 1:\n",
        "        for i in range(1,n_ahead):\n",
        "            x_new = np.append(X_test[0][1:],predictions[i-1])\n",
        "            X_test = x_new.reshape(1,x_new.shape[0],1)\n",
        "            predictions[i] = model.predict(X_test,batch_size = 1)\n",
        "    return predictions\n",
        "\n",
        "\n",
        "\n",
        "def inverse_transform(series, scaler):\n",
        "    \"\"\"\n",
        "    Inverse transform of scales series\n",
        "    Args:\n",
        "        series: scaled series\n",
        "        scaler: scaler object\n",
        "    Returns:\n",
        "        unscaled series\n",
        "    \"\"\"\n",
        "    return scaler.inverse_transform(series.reshape(-1, 1))\n",
        "\n",
        "\n",
        "\n",
        "def ViewLoss(history):\n",
        "    '''\n",
        "    Plots the history of model training\n",
        "    '''\n",
        "    plt.plot(history.history['loss'],label='Train')\n",
        "    plt.plot(history.history['val_loss'],label='Val')\n",
        "    plt.title('Model loss')\n",
        "    plt.ylabel('Loss')\n",
        "    plt.xlabel('Epoch')\n",
        "    plt.legend()\n",
        "    plt.savefig('loss-history.png')\n",
        "    plt.show()\n",
        "\n",
        "\n",
        "def view_predictions(series,predictions,actual,title):\n",
        "    '''\n",
        "    Plots the results of the predictions made by the model\n",
        "    \n",
        "    Args:\n",
        "        series: the time series used for training the network\n",
        "        predictions: numpy array containing the predicted values\n",
        "        actual: the actual time series not seen by the network\n",
        "        title: the title of the plot\n",
        "        \n",
        "    Returns:\n",
        "        plot        \n",
        "        \n",
        "    '''  \n",
        "    \n",
        "    plt.figure(figsize=(8,4))\n",
        "    plt.title(title)\n",
        "    \n",
        "    if isinstance(series,list):\n",
        "        train_index = np.arange(len(series[0]))\n",
        "        test_index = len(series[0]) + np.arange(len(actual))\n",
        "        \n",
        "        plt.plot(train_index,series[0], label = 'general')\n",
        "        \n",
        "    else:\n",
        "        train_index = np.arange(len(series))\n",
        "        test_index = len(series) + np.arange(len(actual))        \n",
        "        plt.plot(train_index,series,label = 'training')\n",
        "\n",
        "    if len(predictions) > 4:\n",
        "        plt.plot(test_index,predictions,label = 'prediction',color='g')\n",
        "        plt.plot(test_index,actual,label = 'actual',color='orange')\n",
        "    else:\n",
        "        plt.scatter(test_index,predictions,label = 'prediction',color='g')\n",
        "        plt.scatter(test_index,actual,label = 'actual',color='orange')    \n",
        "    \n",
        "    plt.xlabel('Index')\n",
        "    plt.ylabel('Data')\n",
        "    \n",
        "    plt.legend(loc='upper left')\n",
        "    plt.savefig('{}_{}.png'.format(title,len(series)))\n",
        "    plt.show()\n",
        "\n",
        "\n",
        "\n",
        "def Test_FitEvaluate(time_series,params,model_):\n",
        "    '''\n",
        "    Calls the pipeline to fit an LSTM model to the \n",
        "    given time series\n",
        "    \n",
        "    Args:\n",
        "        time_series: the time series of interest\n",
        "        params: a dictionary specifying parameters\n",
        "                {input_size, hidden_units, dropout,\n",
        "                learning_rate, n_ahead, val_split, \n",
        "                epochs, verbose, plot}\n",
        "    Returns:\n",
        "        model: keras sequential model      \n",
        "        mse: mean squared error of the prediction\n",
        "        history: training and validation loss history\n",
        "        \n",
        "    '''   \n",
        "    \n",
        "    for k in params.keys():\n",
        "        globals()[k] = params[k]\n",
        "    \n",
        "    \n",
        "    scaled_series, scaler = preprocessing(time_series)\n",
        "    series, y_test, n_test = getSeries(scaled_series,0.8)\n",
        "    X_train,y_train,X_test = getInputOutput(series,input_size)\n",
        "    \n",
        "    # show only n_ahead number of actual values\n",
        "    y_test = y_test[np.arange(n_ahead)]\n",
        "\n",
        "    new_model, predictions, history = FitForecast(X_train,y_train,X_test,n_ahead,\n",
        "                                        input_size,hidden_units,dropout, val_split,\n",
        "                                        learning_rate,epochs,trained_model=model_)\n",
        "    # rescaling\n",
        "    series = inverse_transform(series, scaler)\n",
        "    y_test = inverse_transform(y_test, scaler)\n",
        "    predictions = inverse_transform(predictions, scaler)\n",
        "    \n",
        "    mse = mean_squared_error(y_true=y_test,y_pred=predictions)\n",
        "    \n",
        "    #print('MSE is {}'.format(mse))\n",
        "     \n",
        "    #ViewLoss(history)\n",
        "    #view_predictions(series,predictions,y_test,'Actual vs Forecast')\n",
        "    return new_model, mse, history, predictions, y_test"
      ],
      "execution_count": null,
      "outputs": []
    },
    {
      "cell_type": "code",
      "metadata": {
        "id": "NJUGcvQjKkkQ"
      },
      "source": [
        "def update_graph(value):\n",
        "    #Dataset = pd.read_csv(\"Test_Weekly_Activity_Score_R_local.csv\")\n",
        "    #model=load_model(\"Spring_2021_Model3.h5\")\n",
        "    #print(value)\n",
        "    repo_data=df[df['repoID']==value]\n",
        "    single_repo_series=repo_data.Normalised_Activity_Score\n",
        "    Risk_Score=single_repo_series[-20:].values\n",
        "    series = np.array(Risk_Score)\n",
        "    series=np.reshape(series,(1,series.shape[0],1))\n",
        "\n",
        "    predictions = np.zeros(12)\n",
        "    predictions[0] = new_model_.predict(series,batch_size = 1)\n",
        "    n_ahead = 12\n",
        "    if n_ahead > 1:\n",
        "        for i in range(1,n_ahead):\n",
        "            x_new = np.append(series[0][1:],predictions[i-1])\n",
        "            series = x_new.reshape(1,x_new.shape[0],1)\n",
        "            predictions[i] = new_model_.predict(series,batch_size = 1)\n",
        "            \n",
        "    Final_Score=predictions.reshape(12)\n",
        "    Final_Score[Final_Score<0] = 0\n",
        "\n",
        "        # data to be plotted \n",
        "    x = np.arange(start=1, stop=13, step=1)\n",
        "    #first = go.line(x, Final_Score)\n",
        "    #data = [first]\n",
        "        #print(i)\n",
        "        #print(rows[i])\n",
        "    fig = plt.figure()\n",
        "    fig.patch.set_facecolor('white') \n",
        "    plt.title(\"Activity Score for the next 12 weeks\")  \n",
        "    plt.xlabel(\"Date\")  \n",
        "    plt.ylabel(\"Activity-Score\")\n",
        "    plt.plot(x, Final_Score, color =\"green\")  \n",
        "    return fig"
      ],
      "execution_count": null,
      "outputs": []
    },
    {
      "cell_type": "code",
      "metadata": {
        "colab": {
          "base_uri": "https://localhost:8080/",
          "height": 573
        },
        "id": "9gMMoXpT88Ao",
        "outputId": "04b71f0e-52a5-41d8-81f2-027c1de5c6b5"
      },
      "source": [
        "update_graph(11362691)"
      ],
      "execution_count": null,
      "outputs": [
        {
          "output_type": "execute_result",
          "data": {
            "image/png": "[encoded data removed]",
            "text/plain": [
              "<Figure size 432x288 with 1 Axes>"
            ]
          },
          "metadata": {
            "tags": []
          },
          "execution_count": 55
        },
        {
          "output_type": "display_data",
          "data": {
            "image/png": "[encoded data removed]",
            "text/plain": [
              "<Figure size 432x288 with 1 Axes>"
            ]
          },
          "metadata": {
            "tags": []
          }
        }
      ]
    }
  ]
}